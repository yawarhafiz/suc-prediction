{
  "cells": [
    {
      "cell_type": "code",
      "execution_count": null,
      "metadata": {
        "colab": {
          "background_save": true
        },
        "id": "UeEe2YCRlrQv"
      },
      "outputs": [],
      "source": [
        "import pandas as pd\n",
        "import numpy as np\n",
        "import matplotlib as mpl\n",
        "import matplotlib.pyplot as plt\n",
        "import seaborn as sns\n",
        "from sklearn.ensemble import RandomForestClassifier\n",
        "from sklearn.metrics import precision_score\n",
        "from sklearn.metrics import recall_score\n",
        "from sklearn.metrics import confusion_matrix\n",
        "from sklearn.metrics import plot_confusion_matrix\n",
        "from sklearn.metrics import classification_report\n",
        "from sklearn.svm import LinearSVC\n",
        "import math"
      ]
    },
    {
      "cell_type": "code",
      "execution_count": null,
      "metadata": {
        "colab": {
          "background_save": true
        },
        "id": "lci3P7RMnNfG"
      },
      "outputs": [],
      "source": [
        "def prediccion(y_test,y_pred):\n",
        "  validos=0\n",
        "  no_validos=0\n",
        "  for i in range(len(y_pred)):\n",
        "    if y_test.iloc[i]==y_pred[i].astype(int):\n",
        "      validos=validos+1\n",
        "    else:\n",
        "      no_validos=no_validos+1\n",
        "  return(print(\"Validos: \",validos,\" / No validos: \",no_validos))"
      ]
    },
    {
      "cell_type": "code",
      "execution_count": null,
      "metadata": {
        "colab": {
          "background_save": true
        },
        "id": "se0LaorbNKOl"
      },
      "outputs": [],
      "source": [
        "def mostrar_resultados(y_test, pred_y):\n",
        "    conf_matrix = confusion_matrix(y_test, pred_y)\n",
        "    plt.figure(figsize=(12, 12))\n",
        "    sns.heatmap(conf_matrix, annot=True, fmt=\"d\");\n",
        "    plt.title(\"Matriz de confusión\")\n",
        "    plt.ylabel('Realidad')\n",
        "    plt.xlabel('Predicción')\n",
        "    plt.show()\n",
        "    print()\n",
        "    print(classification_report(y_test, pred_y))"
      ]
    },
    {
      "cell_type": "code",
      "execution_count": null,
      "metadata": {
        "colab": {
          "background_save": true
        },
        "id": "QedfuAY9mC6U",
        "outputId": "f7f969fa-6bd9-4858-e607-8fd8ddd9ce27"
      },
      "outputs": [
        {
          "ename": "FileNotFoundError",
          "evalue": "ignored",
          "output_type": "error",
          "traceback": [
            "\u001b[0;31m---------------------------------------------------------------------------\u001b[0m",
            "\u001b[0;31mFileNotFoundError\u001b[0m                         Traceback (most recent call last)",
            "\u001b[0;32m<ipython-input-4-f939eada0194>\u001b[0m in \u001b[0;36m<module>\u001b[0;34m()\u001b[0m\n\u001b[0;32m----> 1\u001b[0;31m \u001b[0mdf\u001b[0m \u001b[0;34m=\u001b[0m \u001b[0mpd\u001b[0m\u001b[0;34m.\u001b[0m\u001b[0mread_csv\u001b[0m\u001b[0;34m(\u001b[0m\u001b[0;34m'movies_list_2012-2020.csv'\u001b[0m\u001b[0;34m)\u001b[0m\u001b[0;34m\u001b[0m\u001b[0;34m\u001b[0m\u001b[0m\n\u001b[0m\u001b[1;32m      2\u001b[0m \u001b[0mdf_original\u001b[0m\u001b[0;34m=\u001b[0m\u001b[0mdf\u001b[0m\u001b[0;34m\u001b[0m\u001b[0;34m\u001b[0m\u001b[0m\n",
            "\u001b[0;32m/usr/local/lib/python3.7/dist-packages/pandas/util/_decorators.py\u001b[0m in \u001b[0;36mwrapper\u001b[0;34m(*args, **kwargs)\u001b[0m\n\u001b[1;32m    309\u001b[0m                     \u001b[0mstacklevel\u001b[0m\u001b[0;34m=\u001b[0m\u001b[0mstacklevel\u001b[0m\u001b[0;34m,\u001b[0m\u001b[0;34m\u001b[0m\u001b[0;34m\u001b[0m\u001b[0m\n\u001b[1;32m    310\u001b[0m                 )\n\u001b[0;32m--> 311\u001b[0;31m             \u001b[0;32mreturn\u001b[0m \u001b[0mfunc\u001b[0m\u001b[0;34m(\u001b[0m\u001b[0;34m*\u001b[0m\u001b[0margs\u001b[0m\u001b[0;34m,\u001b[0m \u001b[0;34m**\u001b[0m\u001b[0mkwargs\u001b[0m\u001b[0;34m)\u001b[0m\u001b[0;34m\u001b[0m\u001b[0;34m\u001b[0m\u001b[0m\n\u001b[0m\u001b[1;32m    312\u001b[0m \u001b[0;34m\u001b[0m\u001b[0m\n\u001b[1;32m    313\u001b[0m         \u001b[0;32mreturn\u001b[0m \u001b[0mwrapper\u001b[0m\u001b[0;34m\u001b[0m\u001b[0;34m\u001b[0m\u001b[0m\n",
            "\u001b[0;32m/usr/local/lib/python3.7/dist-packages/pandas/io/parsers/readers.py\u001b[0m in \u001b[0;36mread_csv\u001b[0;34m(filepath_or_buffer, sep, delimiter, header, names, index_col, usecols, squeeze, prefix, mangle_dupe_cols, dtype, engine, converters, true_values, false_values, skipinitialspace, skiprows, skipfooter, nrows, na_values, keep_default_na, na_filter, verbose, skip_blank_lines, parse_dates, infer_datetime_format, keep_date_col, date_parser, dayfirst, cache_dates, iterator, chunksize, compression, thousands, decimal, lineterminator, quotechar, quoting, doublequote, escapechar, comment, encoding, encoding_errors, dialect, error_bad_lines, warn_bad_lines, on_bad_lines, delim_whitespace, low_memory, memory_map, float_precision, storage_options)\u001b[0m\n\u001b[1;32m    584\u001b[0m     \u001b[0mkwds\u001b[0m\u001b[0;34m.\u001b[0m\u001b[0mupdate\u001b[0m\u001b[0;34m(\u001b[0m\u001b[0mkwds_defaults\u001b[0m\u001b[0;34m)\u001b[0m\u001b[0;34m\u001b[0m\u001b[0;34m\u001b[0m\u001b[0m\n\u001b[1;32m    585\u001b[0m \u001b[0;34m\u001b[0m\u001b[0m\n\u001b[0;32m--> 586\u001b[0;31m     \u001b[0;32mreturn\u001b[0m \u001b[0m_read\u001b[0m\u001b[0;34m(\u001b[0m\u001b[0mfilepath_or_buffer\u001b[0m\u001b[0;34m,\u001b[0m \u001b[0mkwds\u001b[0m\u001b[0;34m)\u001b[0m\u001b[0;34m\u001b[0m\u001b[0;34m\u001b[0m\u001b[0m\n\u001b[0m\u001b[1;32m    587\u001b[0m \u001b[0;34m\u001b[0m\u001b[0m\n\u001b[1;32m    588\u001b[0m \u001b[0;34m\u001b[0m\u001b[0m\n",
            "\u001b[0;32m/usr/local/lib/python3.7/dist-packages/pandas/io/parsers/readers.py\u001b[0m in \u001b[0;36m_read\u001b[0;34m(filepath_or_buffer, kwds)\u001b[0m\n\u001b[1;32m    480\u001b[0m \u001b[0;34m\u001b[0m\u001b[0m\n\u001b[1;32m    481\u001b[0m     \u001b[0;31m# Create the parser.\u001b[0m\u001b[0;34m\u001b[0m\u001b[0;34m\u001b[0m\u001b[0;34m\u001b[0m\u001b[0m\n\u001b[0;32m--> 482\u001b[0;31m     \u001b[0mparser\u001b[0m \u001b[0;34m=\u001b[0m \u001b[0mTextFileReader\u001b[0m\u001b[0;34m(\u001b[0m\u001b[0mfilepath_or_buffer\u001b[0m\u001b[0;34m,\u001b[0m \u001b[0;34m**\u001b[0m\u001b[0mkwds\u001b[0m\u001b[0;34m)\u001b[0m\u001b[0;34m\u001b[0m\u001b[0;34m\u001b[0m\u001b[0m\n\u001b[0m\u001b[1;32m    483\u001b[0m \u001b[0;34m\u001b[0m\u001b[0m\n\u001b[1;32m    484\u001b[0m     \u001b[0;32mif\u001b[0m \u001b[0mchunksize\u001b[0m \u001b[0;32mor\u001b[0m \u001b[0miterator\u001b[0m\u001b[0;34m:\u001b[0m\u001b[0;34m\u001b[0m\u001b[0;34m\u001b[0m\u001b[0m\n",
            "\u001b[0;32m/usr/local/lib/python3.7/dist-packages/pandas/io/parsers/readers.py\u001b[0m in \u001b[0;36m__init__\u001b[0;34m(self, f, engine, **kwds)\u001b[0m\n\u001b[1;32m    809\u001b[0m             \u001b[0mself\u001b[0m\u001b[0;34m.\u001b[0m\u001b[0moptions\u001b[0m\u001b[0;34m[\u001b[0m\u001b[0;34m\"has_index_names\"\u001b[0m\u001b[0;34m]\u001b[0m \u001b[0;34m=\u001b[0m \u001b[0mkwds\u001b[0m\u001b[0;34m[\u001b[0m\u001b[0;34m\"has_index_names\"\u001b[0m\u001b[0;34m]\u001b[0m\u001b[0;34m\u001b[0m\u001b[0;34m\u001b[0m\u001b[0m\n\u001b[1;32m    810\u001b[0m \u001b[0;34m\u001b[0m\u001b[0m\n\u001b[0;32m--> 811\u001b[0;31m         \u001b[0mself\u001b[0m\u001b[0;34m.\u001b[0m\u001b[0m_engine\u001b[0m \u001b[0;34m=\u001b[0m \u001b[0mself\u001b[0m\u001b[0;34m.\u001b[0m\u001b[0m_make_engine\u001b[0m\u001b[0;34m(\u001b[0m\u001b[0mself\u001b[0m\u001b[0;34m.\u001b[0m\u001b[0mengine\u001b[0m\u001b[0;34m)\u001b[0m\u001b[0;34m\u001b[0m\u001b[0;34m\u001b[0m\u001b[0m\n\u001b[0m\u001b[1;32m    812\u001b[0m \u001b[0;34m\u001b[0m\u001b[0m\n\u001b[1;32m    813\u001b[0m     \u001b[0;32mdef\u001b[0m \u001b[0mclose\u001b[0m\u001b[0;34m(\u001b[0m\u001b[0mself\u001b[0m\u001b[0;34m)\u001b[0m\u001b[0;34m:\u001b[0m\u001b[0;34m\u001b[0m\u001b[0;34m\u001b[0m\u001b[0m\n",
            "\u001b[0;32m/usr/local/lib/python3.7/dist-packages/pandas/io/parsers/readers.py\u001b[0m in \u001b[0;36m_make_engine\u001b[0;34m(self, engine)\u001b[0m\n\u001b[1;32m   1038\u001b[0m             )\n\u001b[1;32m   1039\u001b[0m         \u001b[0;31m# error: Too many arguments for \"ParserBase\"\u001b[0m\u001b[0;34m\u001b[0m\u001b[0;34m\u001b[0m\u001b[0;34m\u001b[0m\u001b[0m\n\u001b[0;32m-> 1040\u001b[0;31m         \u001b[0;32mreturn\u001b[0m \u001b[0mmapping\u001b[0m\u001b[0;34m[\u001b[0m\u001b[0mengine\u001b[0m\u001b[0;34m]\u001b[0m\u001b[0;34m(\u001b[0m\u001b[0mself\u001b[0m\u001b[0;34m.\u001b[0m\u001b[0mf\u001b[0m\u001b[0;34m,\u001b[0m \u001b[0;34m**\u001b[0m\u001b[0mself\u001b[0m\u001b[0;34m.\u001b[0m\u001b[0moptions\u001b[0m\u001b[0;34m)\u001b[0m  \u001b[0;31m# type: ignore[call-arg]\u001b[0m\u001b[0;34m\u001b[0m\u001b[0;34m\u001b[0m\u001b[0m\n\u001b[0m\u001b[1;32m   1041\u001b[0m \u001b[0;34m\u001b[0m\u001b[0m\n\u001b[1;32m   1042\u001b[0m     \u001b[0;32mdef\u001b[0m \u001b[0m_failover_to_python\u001b[0m\u001b[0;34m(\u001b[0m\u001b[0mself\u001b[0m\u001b[0;34m)\u001b[0m\u001b[0;34m:\u001b[0m\u001b[0;34m\u001b[0m\u001b[0;34m\u001b[0m\u001b[0m\n",
            "\u001b[0;32m/usr/local/lib/python3.7/dist-packages/pandas/io/parsers/c_parser_wrapper.py\u001b[0m in \u001b[0;36m__init__\u001b[0;34m(self, src, **kwds)\u001b[0m\n\u001b[1;32m     49\u001b[0m \u001b[0;34m\u001b[0m\u001b[0m\n\u001b[1;32m     50\u001b[0m         \u001b[0;31m# open handles\u001b[0m\u001b[0;34m\u001b[0m\u001b[0;34m\u001b[0m\u001b[0;34m\u001b[0m\u001b[0m\n\u001b[0;32m---> 51\u001b[0;31m         \u001b[0mself\u001b[0m\u001b[0;34m.\u001b[0m\u001b[0m_open_handles\u001b[0m\u001b[0;34m(\u001b[0m\u001b[0msrc\u001b[0m\u001b[0;34m,\u001b[0m \u001b[0mkwds\u001b[0m\u001b[0;34m)\u001b[0m\u001b[0;34m\u001b[0m\u001b[0;34m\u001b[0m\u001b[0m\n\u001b[0m\u001b[1;32m     52\u001b[0m         \u001b[0;32massert\u001b[0m \u001b[0mself\u001b[0m\u001b[0;34m.\u001b[0m\u001b[0mhandles\u001b[0m \u001b[0;32mis\u001b[0m \u001b[0;32mnot\u001b[0m \u001b[0;32mNone\u001b[0m\u001b[0;34m\u001b[0m\u001b[0;34m\u001b[0m\u001b[0m\n\u001b[1;32m     53\u001b[0m \u001b[0;34m\u001b[0m\u001b[0m\n",
            "\u001b[0;32m/usr/local/lib/python3.7/dist-packages/pandas/io/parsers/base_parser.py\u001b[0m in \u001b[0;36m_open_handles\u001b[0;34m(self, src, kwds)\u001b[0m\n\u001b[1;32m    227\u001b[0m             \u001b[0mmemory_map\u001b[0m\u001b[0;34m=\u001b[0m\u001b[0mkwds\u001b[0m\u001b[0;34m.\u001b[0m\u001b[0mget\u001b[0m\u001b[0;34m(\u001b[0m\u001b[0;34m\"memory_map\"\u001b[0m\u001b[0;34m,\u001b[0m \u001b[0;32mFalse\u001b[0m\u001b[0;34m)\u001b[0m\u001b[0;34m,\u001b[0m\u001b[0;34m\u001b[0m\u001b[0;34m\u001b[0m\u001b[0m\n\u001b[1;32m    228\u001b[0m             \u001b[0mstorage_options\u001b[0m\u001b[0;34m=\u001b[0m\u001b[0mkwds\u001b[0m\u001b[0;34m.\u001b[0m\u001b[0mget\u001b[0m\u001b[0;34m(\u001b[0m\u001b[0;34m\"storage_options\"\u001b[0m\u001b[0;34m,\u001b[0m \u001b[0;32mNone\u001b[0m\u001b[0;34m)\u001b[0m\u001b[0;34m,\u001b[0m\u001b[0;34m\u001b[0m\u001b[0;34m\u001b[0m\u001b[0m\n\u001b[0;32m--> 229\u001b[0;31m             \u001b[0merrors\u001b[0m\u001b[0;34m=\u001b[0m\u001b[0mkwds\u001b[0m\u001b[0;34m.\u001b[0m\u001b[0mget\u001b[0m\u001b[0;34m(\u001b[0m\u001b[0;34m\"encoding_errors\"\u001b[0m\u001b[0;34m,\u001b[0m \u001b[0;34m\"strict\"\u001b[0m\u001b[0;34m)\u001b[0m\u001b[0;34m,\u001b[0m\u001b[0;34m\u001b[0m\u001b[0;34m\u001b[0m\u001b[0m\n\u001b[0m\u001b[1;32m    230\u001b[0m         )\n\u001b[1;32m    231\u001b[0m \u001b[0;34m\u001b[0m\u001b[0m\n",
            "\u001b[0;32m/usr/local/lib/python3.7/dist-packages/pandas/io/common.py\u001b[0m in \u001b[0;36mget_handle\u001b[0;34m(path_or_buf, mode, encoding, compression, memory_map, is_text, errors, storage_options)\u001b[0m\n\u001b[1;32m    705\u001b[0m                 \u001b[0mencoding\u001b[0m\u001b[0;34m=\u001b[0m\u001b[0mioargs\u001b[0m\u001b[0;34m.\u001b[0m\u001b[0mencoding\u001b[0m\u001b[0;34m,\u001b[0m\u001b[0;34m\u001b[0m\u001b[0;34m\u001b[0m\u001b[0m\n\u001b[1;32m    706\u001b[0m                 \u001b[0merrors\u001b[0m\u001b[0;34m=\u001b[0m\u001b[0merrors\u001b[0m\u001b[0;34m,\u001b[0m\u001b[0;34m\u001b[0m\u001b[0;34m\u001b[0m\u001b[0m\n\u001b[0;32m--> 707\u001b[0;31m                 \u001b[0mnewline\u001b[0m\u001b[0;34m=\u001b[0m\u001b[0;34m\"\"\u001b[0m\u001b[0;34m,\u001b[0m\u001b[0;34m\u001b[0m\u001b[0;34m\u001b[0m\u001b[0m\n\u001b[0m\u001b[1;32m    708\u001b[0m             )\n\u001b[1;32m    709\u001b[0m         \u001b[0;32melse\u001b[0m\u001b[0;34m:\u001b[0m\u001b[0;34m\u001b[0m\u001b[0;34m\u001b[0m\u001b[0m\n",
            "\u001b[0;31mFileNotFoundError\u001b[0m: [Errno 2] No such file or directory: 'movies_list_2012-2020.csv'"
          ]
        }
      ],
      "source": [
        "df = pd.read_csv('movies_list_2012-2020.csv')\n",
        "df_original=df"
      ]
    },
    {
      "cell_type": "code",
      "execution_count": null,
      "metadata": {
        "colab": {
          "background_save": true
        },
        "id": "VfI-CFe1mTnq"
      },
      "outputs": [],
      "source": [
        "df.head()\n",
        "df_models_score=df_models_score=pd.DataFrame()"
      ]
    },
    {
      "cell_type": "code",
      "execution_count": null,
      "metadata": {
        "colab": {
          "background_save": true
        },
        "id": "hNUMYx9umUma"
      },
      "outputs": [],
      "source": [
        "# TOP 50 movies opening weekend\n",
        "top_movies_opening_weekend = df[[\"movie_title\", \"score\"]].sort_values(by=\"score\", ascending=False)\n",
        "top_movies_opening_weekend[:50]\n",
        "\n",
        "plt.figure(figsize=(20, 15))\n",
        "sns.barplot(\n",
        "    y = \"movie_title\",\n",
        "    x = \"score\",\n",
        "    data = top_movies_opening_weekend[:50]\n",
        ")\n",
        "plt.ylabel(\"Opening weekend gross\")\n",
        "plt.xlabel(\"Movie title\")\n",
        "\n",
        "plt.show()"
      ]
    },
    {
      "cell_type": "markdown",
      "metadata": {
        "id": "8UBq__Of1cCk"
      },
      "source": [
        "# Pre-analysis"
      ]
    },
    {
      "cell_type": "code",
      "execution_count": null,
      "metadata": {
        "colab": {
          "background_save": true
        },
        "id": "0ALk2rfF2Ao0"
      },
      "outputs": [],
      "source": [
        "df = df.drop(columns=['release_date', 'movie_title'], axis=0)"
      ]
    },
    {
      "cell_type": "markdown",
      "metadata": {
        "id": "Rnu1JgOUqnO1"
      },
      "source": [
        "## Differents values"
      ]
    },
    {
      "cell_type": "code",
      "execution_count": null,
      "metadata": {
        "colab": {
          "background_save": true
        },
        "id": "PJ1qzyM_qm4m"
      },
      "outputs": [],
      "source": [
        "df['max_theaters'].describe()"
      ]
    },
    {
      "cell_type": "code",
      "execution_count": null,
      "metadata": {
        "colab": {
          "background_save": true
        },
        "id": "CJlYTwqOnSbZ"
      },
      "outputs": [],
      "source": [
        "df['score'].describe()"
      ]
    },
    {
      "cell_type": "code",
      "execution_count": null,
      "metadata": {
        "colab": {
          "background_save": true
        },
        "id": "9__P4AuJq_7c"
      },
      "outputs": [],
      "source": [
        "df['running_time_min'].describe()"
      ]
    },
    {
      "cell_type": "code",
      "execution_count": null,
      "metadata": {
        "colab": {
          "background_save": true
        },
        "id": "xkA57mMGwLUp"
      },
      "outputs": [],
      "source": [
        "for col in df.columns.to_list():\n",
        "  if col.startswith('genre_'):\n",
        "    print(f'{col}: {df[col].value_counts()[1]}/{len(df)}')"
      ]
    },
    {
      "cell_type": "markdown",
      "metadata": {
        "id": "MnXyVlWLz9qZ"
      },
      "source": [
        "## Outliers"
      ]
    },
    {
      "cell_type": "code",
      "execution_count": null,
      "metadata": {
        "colab": {
          "background_save": true
        },
        "id": "VbdsoAgN0HDm"
      },
      "outputs": [],
      "source": [
        "plt.figure(figsize=(20, 10))\n",
        "ax = sns.boxplot(data=df)\n",
        "_ = ax.set_xticklabels(df.keys(), rotation=90)"
      ]
    },
    {
      "cell_type": "markdown",
      "metadata": {
        "id": "oP9PvXH5_0jj"
      },
      "source": [
        "## Correlation"
      ]
    },
    {
      "cell_type": "code",
      "execution_count": null,
      "metadata": {
        "colab": {
          "background_save": true
        },
        "id": "UiwR-MQxZoEb"
      },
      "outputs": [],
      "source": [
        ""
      ]
    },
    {
      "cell_type": "code",
      "execution_count": null,
      "metadata": {
        "colab": {
          "background_save": true
        },
        "id": "SWgmMF9s0b3I"
      },
      "outputs": [],
      "source": [
        "df.head()"
      ]
    },
    {
      "cell_type": "code",
      "execution_count": null,
      "metadata": {
        "colab": {
          "background_save": true
        },
        "id": "gjtjBmDG2Tlz"
      },
      "outputs": [],
      "source": [
        "plt.figure(figsize=(15, 8))\n",
        "sns.heatmap(round(df.corr(method='spearman'), 2), annot=True, mask=None)\n",
        "plt.show()"
      ]
    },
    {
      "cell_type": "markdown",
      "metadata": {
        "id": "p7CYvqU0-Qc4"
      },
      "source": [
        "# Models"
      ]
    },
    {
      "cell_type": "markdown",
      "metadata": {
        "id": "a5dU0taP-X2A"
      },
      "source": [
        "1. Predict Score (without total gross)\n",
        "2. Total gross (without score)\n",
        "3. Opening weekend gross (without total gross and score)"
      ]
    },
    {
      "cell_type": "code",
      "execution_count": null,
      "metadata": {
        "colab": {
          "background_save": true
        },
        "id": "qT-TAK8VSD21"
      },
      "outputs": [],
      "source": [
        "from sklearn.model_selection import train_test_split"
      ]
    },
    {
      "cell_type": "markdown",
      "metadata": {
        "id": "btfzAXhTNbfC"
      },
      "source": [
        "## Predict Score"
      ]
    },
    {
      "cell_type": "markdown",
      "metadata": {
        "id": "WJr_uHF78m35"
      },
      "source": [
        "\n",
        "### Logistic Regression"
      ]
    },
    {
      "cell_type": "code",
      "execution_count": null,
      "metadata": {
        "colab": {
          "background_save": true
        },
        "id": "QOhdZ7KNZeXL"
      },
      "outputs": [],
      "source": [
        "df[\"score\"].describe()"
      ]
    },
    {
      "cell_type": "code",
      "execution_count": null,
      "metadata": {
        "colab": {
          "background_save": true
        },
        "id": "9YepeyfE8_hZ"
      },
      "outputs": [],
      "source": [
        "df.loc[df[\"score\"] < 4.8, \"score\"] = 0\n",
        "df.loc[(df[\"score\"] >=4.8) & (df[\"score\"] < 5.5), \"score\"] = 1\n",
        "df.loc[(df[\"score\"] >=5.5) & (df[\"score\"] < 6.3), \"score\"] = 2\n",
        "df.loc[(df[\"score\"] >=6.3), \"score\"] = 3"
      ]
    },
    {
      "cell_type": "code",
      "execution_count": null,
      "metadata": {
        "colab": {
          "background_save": true
        },
        "id": "Q8XqKBJs99Hx"
      },
      "outputs": [],
      "source": [
        "df[\"score\"].value_counts()"
      ]
    },
    {
      "cell_type": "code",
      "execution_count": null,
      "metadata": {
        "colab": {
          "background_save": true
        },
        "id": "P5NCvo_NT9Yb"
      },
      "outputs": [],
      "source": [
        "notas=[\"Bad/<6\",\"Good/6-7\",\"Very Good/7-8\",\"Excelent/+8\"]\n",
        "data=df"
      ]
    },
    {
      "cell_type": "code",
      "execution_count": null,
      "metadata": {
        "colab": {
          "background_save": true
        },
        "id": "GMuMKJ5d-Unv"
      },
      "outputs": [],
      "source": [
        "from sklearn.preprocessing import MinMaxScaler\n",
        "y=df[\"score\"]\n",
        "cols = list(df.columns)\n",
        "scaler = MinMaxScaler()\n",
        "\n",
        "df= scaler.fit_transform(df)\n",
        "df = pd.DataFrame(df, columns=cols)"
      ]
    },
    {
      "cell_type": "code",
      "execution_count": null,
      "metadata": {
        "colab": {
          "background_save": true
        },
        "id": "rQrZ_7nt-vTI"
      },
      "outputs": [],
      "source": [
        "df.head()"
      ]
    },
    {
      "cell_type": "code",
      "execution_count": null,
      "metadata": {
        "colab": {
          "background_save": true
        },
        "id": "ANj32cD78jVh"
      },
      "outputs": [],
      "source": [
        "df_log = df.drop(columns=['score', 'gross_total'])\n",
        "X = df_log\n",
        "X_train, X_test, y_train, y_test = train_test_split(X, y, test_size=0.2, random_state=42)"
      ]
    },
    {
      "cell_type": "code",
      "execution_count": null,
      "metadata": {
        "colab": {
          "background_save": true
        },
        "id": "DMecl0Ik-2mQ"
      },
      "outputs": [],
      "source": [
        "from sklearn.linear_model import LogisticRegression\n",
        "clf = LogisticRegression(max_iter=1000,multi_class=\"multinomial\").fit(X_train, y_train)\n",
        "y_pred=clf.predict(X_test)"
      ]
    },
    {
      "cell_type": "code",
      "execution_count": null,
      "metadata": {
        "colab": {
          "background_save": true
        },
        "id": "FKdJnjSyAfve"
      },
      "outputs": [],
      "source": [
        "score = clf.score(X_test, y_test)\n",
        "print(score)\n",
        "df_models_score=df_models_score=df_models_score=df_models_score.append({'name_model': 'Logistic Regression', 'score': round(score*100,2),'target': 'score'},ignore_index=True)"
      ]
    },
    {
      "cell_type": "code",
      "execution_count": null,
      "metadata": {
        "colab": {
          "background_save": true
        },
        "id": "M1aTz1eSBDm9"
      },
      "outputs": [],
      "source": [
        "prediccion(y_test,y_pred)"
      ]
    },
    {
      "cell_type": "code",
      "execution_count": null,
      "metadata": {
        "colab": {
          "background_save": true
        },
        "id": "zO0xaobZsp4y"
      },
      "outputs": [],
      "source": [
        "mostrar_resultados(y_test,y_pred)"
      ]
    },
    {
      "cell_type": "markdown",
      "metadata": {
        "id": "m-JcIWUDgmfj"
      },
      "source": [
        "### Random Forest Classifier\n"
      ]
    },
    {
      "cell_type": "code",
      "execution_count": null,
      "metadata": {
        "colab": {
          "background_save": true
        },
        "id": "mJEcyMsxgzz6"
      },
      "outputs": [],
      "source": [
        "rfc = RandomForestClassifier(n_estimators=2000,criterion=\"gini\")\n",
        "rfc.fit(X_train, y_train)\n",
        "y_pred_rfc = rfc.predict(X_test)\n",
        "score = rfc.score(X_test, y_test)\n",
        "print(score)\n",
        "df_models_score=df_models_score.append({'name_model': 'Random Forest Classifier', 'score':round(score*100,2),'target': 'score'},ignore_index=True)"
      ]
    },
    {
      "cell_type": "code",
      "execution_count": null,
      "metadata": {
        "colab": {
          "background_save": true
        },
        "id": "xcZDLVYmh6oC"
      },
      "outputs": [],
      "source": [
        "#Import scikit-learn metrics module for accuracy calculation\n",
        "from sklearn import metrics\n",
        "# Model Accuracy, how often is the classifier correct?\n",
        "print(\"Accuracy:\",metrics.accuracy_score(y_test, y_pred_rfc))"
      ]
    },
    {
      "cell_type": "code",
      "execution_count": null,
      "metadata": {
        "colab": {
          "background_save": true
        },
        "id": "MtSw9OQ6heaz"
      },
      "outputs": [],
      "source": [
        "prediccion(y_test,y_pred_rfc)"
      ]
    },
    {
      "cell_type": "code",
      "execution_count": null,
      "metadata": {
        "colab": {
          "background_save": true
        },
        "id": "ywkv42F4hGbf"
      },
      "outputs": [],
      "source": [
        "mostrar_resultados(y_test,y_pred_rfc)"
      ]
    },
    {
      "cell_type": "markdown",
      "metadata": {
        "id": "a9fkY3Q2oUKx"
      },
      "source": [
        "### Decision Tree Classifier"
      ]
    },
    {
      "cell_type": "code",
      "execution_count": null,
      "metadata": {
        "colab": {
          "background_save": true
        },
        "id": "J8S1ekewntlx"
      },
      "outputs": [],
      "source": [
        "from sklearn import tree\n",
        "dtc = tree.DecisionTreeClassifier(criterion=\"gini\", random_state=42,max_depth=10,splitter=\"best\")   \n",
        "#Entrenamos\n",
        "clf = dtc.fit(X_train, y_train)"
      ]
    },
    {
      "cell_type": "code",
      "execution_count": null,
      "metadata": {
        "colab": {
          "background_save": true
        },
        "id": "1MKP7oOt0egJ"
      },
      "outputs": [],
      "source": [
        "y_pred_dtc=dtc.predict(X_test)"
      ]
    },
    {
      "cell_type": "code",
      "execution_count": null,
      "metadata": {
        "colab": {
          "background_save": true
        },
        "id": "ctmxGe4NofJB"
      },
      "outputs": [],
      "source": [
        "score=dtc.score(X_test,y_test)\n",
        "df_models_score=df_models_score.append({'name_model': 'Decision Tree Classifier', 'score':round(score*100,2),'target': 'score'},ignore_index=True)"
      ]
    },
    {
      "cell_type": "code",
      "execution_count": null,
      "metadata": {
        "colab": {
          "background_save": true
        },
        "id": "AoBOC-B30bRU"
      },
      "outputs": [],
      "source": [
        "prediccion(y_test,y_pred_dtc)"
      ]
    },
    {
      "cell_type": "code",
      "execution_count": null,
      "metadata": {
        "colab": {
          "background_save": true
        },
        "id": "xOcnTzMk0r0C"
      },
      "outputs": [],
      "source": [
        "mostrar_resultados(y_test,y_pred_dtc)"
      ]
    },
    {
      "cell_type": "markdown",
      "metadata": {
        "id": "WLUDdrq9zPGS"
      },
      "source": [
        "\n",
        "### PCA (DTC)"
      ]
    },
    {
      "cell_type": "code",
      "execution_count": null,
      "metadata": {
        "colab": {
          "background_save": true
        },
        "id": "eydpngdDtB-Z"
      },
      "outputs": [],
      "source": [
        "from sklearn.decomposition import PCA\n",
        "pca = PCA(n_components=12)\n",
        "principalComponents = pca.fit_transform(df_log)"
      ]
    },
    {
      "cell_type": "code",
      "execution_count": null,
      "metadata": {
        "colab": {
          "background_save": true
        },
        "id": "cJ6m9LJoy79U"
      },
      "outputs": [],
      "source": [
        "X_train, X_test, y_train, y_test = train_test_split(principalComponents, y, test_size=0.20, random_state=42)"
      ]
    },
    {
      "cell_type": "code",
      "execution_count": null,
      "metadata": {
        "colab": {
          "background_save": true
        },
        "id": "gcX9e40uzLu5"
      },
      "outputs": [],
      "source": [
        "from sklearn import tree\n",
        "dtc_pca = tree.DecisionTreeClassifier(criterion=\"gini\", random_state=42,max_depth=10,splitter=\"best\")   \n",
        "#Entrenamos\n",
        "dtc_pca.fit(X_train, y_train)\n",
        "y_pred_dtc_pca=dtc_pca.predict(X_test)"
      ]
    },
    {
      "cell_type": "code",
      "execution_count": null,
      "metadata": {
        "colab": {
          "background_save": true
        },
        "id": "FkT1OJLhzSVz"
      },
      "outputs": [],
      "source": [
        "score=dtc_pca.score(X_test,y_test)\n",
        "df_models_score=df_models_score.append({'name_model': 'Decision Tree Classifier with PCA', 'score': round(score*100,2),'target': 'score'},ignore_index=True)"
      ]
    },
    {
      "cell_type": "code",
      "execution_count": null,
      "metadata": {
        "colab": {
          "background_save": true
        },
        "id": "TZPmhjcT2nV3"
      },
      "outputs": [],
      "source": [
        "mostrar_resultados(y_test,y_pred_dtc_pca)"
      ]
    },
    {
      "cell_type": "markdown",
      "metadata": {
        "id": "eX_rWMlQ0G63"
      },
      "source": [
        "### Naive Bayes"
      ]
    },
    {
      "cell_type": "code",
      "execution_count": null,
      "metadata": {
        "colab": {
          "background_save": true
        },
        "id": "7VOwooXu1M58"
      },
      "outputs": [],
      "source": [
        "df_nb = data.drop(columns=['score', 'gross_total','max_theaters'])"
      ]
    },
    {
      "cell_type": "code",
      "execution_count": null,
      "metadata": {
        "colab": {
          "background_save": true
        },
        "id": "ef5x6qhX1SN4"
      },
      "outputs": [],
      "source": [
        "X_train, X_test, y_train, y_test = train_test_split(df_nb, y, test_size=0.2, random_state=42)"
      ]
    },
    {
      "cell_type": "code",
      "execution_count": null,
      "metadata": {
        "colab": {
          "background_save": true
        },
        "id": "poAL-fM-zorx"
      },
      "outputs": [],
      "source": [
        "from sklearn.naive_bayes import GaussianNB\n",
        "gnb = GaussianNB()\n",
        "gnb.fit(X_train,y_train)\n",
        "y_pred_gnb= gnb.predict(X_test)\n",
        "score=gnb.score(X_test,y_test)\n",
        "df_models_score=df_models_score.append({'name_model': 'Naive Bayes', 'score': round(score*100,2),'target': 'score'},ignore_index=True)"
      ]
    },
    {
      "cell_type": "code",
      "execution_count": null,
      "metadata": {
        "colab": {
          "background_save": true
        },
        "id": "A1zc2Tzz0S5N"
      },
      "outputs": [],
      "source": [
        "prediccion(y_test,y_pred_gnb)"
      ]
    },
    {
      "cell_type": "code",
      "execution_count": null,
      "metadata": {
        "colab": {
          "background_save": true
        },
        "id": "bgCqplW40oQd"
      },
      "outputs": [],
      "source": [
        "mostrar_resultados(y_test,y_pred_gnb)"
      ]
    },
    {
      "cell_type": "markdown",
      "metadata": {
        "id": "z9WY7mg41i85"
      },
      "source": [
        "### KNeighbors classifier"
      ]
    },
    {
      "cell_type": "code",
      "execution_count": null,
      "metadata": {
        "colab": {
          "background_save": true
        },
        "id": "piCdXqBjRIst"
      },
      "outputs": [],
      "source": [
        "X_train, X_test, y_train, y_test = train_test_split(X, y, test_size=0.2, random_state=42)"
      ]
    },
    {
      "cell_type": "code",
      "execution_count": null,
      "metadata": {
        "colab": {
          "background_save": true
        },
        "id": "2jsvH1N400Mg"
      },
      "outputs": [],
      "source": [
        "from sklearn.utils import class_weight\n",
        "from sklearn.neighbors import KNeighborsClassifier\n",
        "knc = KNeighborsClassifier(n_neighbors=4)\n",
        "knc.fit(X_train, y_train)\n",
        "y_pred_knc = knc.predict(X_test)\n",
        "score = knc.score(X_test, y_test)\n",
        "print(score)\n",
        "df_models_score=df_models_score.append({'name_model': 'KNeighbors Classifier', 'score':round(score*100,2),'target': 'score'},ignore_index=True)"
      ]
    },
    {
      "cell_type": "code",
      "execution_count": null,
      "metadata": {
        "colab": {
          "background_save": true
        },
        "id": "o4gtW0-610yP"
      },
      "outputs": [],
      "source": [
        "prediccion(y_test,y_pred_knc)"
      ]
    },
    {
      "cell_type": "code",
      "execution_count": null,
      "metadata": {
        "colab": {
          "background_save": true
        },
        "id": "Kzf9f2oX10Ii"
      },
      "outputs": [],
      "source": [
        "mostrar_resultados(y_test,y_pred_knc)"
      ]
    },
    {
      "cell_type": "markdown",
      "metadata": {
        "id": "fSn9ll6QcZ3R"
      },
      "source": [
        "### Linear SVC"
      ]
    },
    {
      "cell_type": "code",
      "execution_count": null,
      "metadata": {
        "colab": {
          "background_save": true
        },
        "id": "zhk8vCSQc3Wm"
      },
      "outputs": [],
      "source": [
        "X_train, X_test, y_train, y_test = train_test_split(X, y, test_size=0.2, random_state=42)"
      ]
    },
    {
      "cell_type": "code",
      "execution_count": null,
      "metadata": {
        "colab": {
          "background_save": true
        },
        "id": "zP0oK1JYcYhN"
      },
      "outputs": [],
      "source": [
        "from sklearn import svm\n",
        "lsvc = svm.SVC(kernel='poly')"
      ]
    },
    {
      "cell_type": "code",
      "execution_count": null,
      "metadata": {
        "colab": {
          "background_save": true
        },
        "id": "pzXIxFi_cuqJ"
      },
      "outputs": [],
      "source": [
        "lsvc.fit(X_train,y_train)"
      ]
    },
    {
      "cell_type": "code",
      "execution_count": null,
      "metadata": {
        "colab": {
          "background_save": true
        },
        "id": "LI-EA_Mhc40O"
      },
      "outputs": [],
      "source": [
        "y_pred_lsvc=lsvc.predict(X_test)\n",
        "score=lsvc.score(X_test,y_test)\n",
        "df_models_score=df_models_score.append({'name_model': 'Linear SVC', 'score': round(score*100,2),'target': 'score'},ignore_index=True)"
      ]
    },
    {
      "cell_type": "code",
      "execution_count": null,
      "metadata": {
        "colab": {
          "background_save": true
        },
        "id": "gAThVlKVdZWJ"
      },
      "outputs": [],
      "source": [
        "prediccion(y_test,y_pred_lsvc)"
      ]
    },
    {
      "cell_type": "code",
      "execution_count": null,
      "metadata": {
        "colab": {
          "background_save": true
        },
        "id": "Yl9_YrVkdZWK"
      },
      "outputs": [],
      "source": [
        "mostrar_resultados(y_test,y_pred_lsvc)"
      ]
    },
    {
      "cell_type": "markdown",
      "metadata": {
        "id": "5Ykj4euNcKnr"
      },
      "source": [
        "### Neural network"
      ]
    },
    {
      "cell_type": "code",
      "execution_count": null,
      "metadata": {
        "colab": {
          "background_save": true
        },
        "id": "GJagpd4hcP2k"
      },
      "outputs": [],
      "source": [
        "from tensorflow.keras import Sequential\n",
        "from tensorflow.keras import layers\n"
      ]
    },
    {
      "cell_type": "code",
      "execution_count": null,
      "metadata": {
        "colab": {
          "background_save": true
        },
        "id": "0yDjnBuFWPQt"
      },
      "outputs": [],
      "source": [
        "model = Sequential()\n",
        "model.add(layers.Dense(30, input_dim = X_train.shape[1], activation = 'relu')) # input layer requires input_dim param\n",
        "model.add(layers.Dense(15, activation = 'relu'))\n",
        "model.add(layers.Dense(1, activation='softmax'))\n",
        "\n",
        "model.compile(loss=\"categorical_crossentropy\", optimizer= \"adam\", metrics=['accuracy'])"
      ]
    },
    {
      "cell_type": "code",
      "execution_count": null,
      "metadata": {
        "colab": {
          "background_save": true
        },
        "id": "klIpDp5SdMFa"
      },
      "outputs": [],
      "source": [
        "model.fit(X_train, y_train, epochs = 100, shuffle = True, batch_size=128, verbose=2)"
      ]
    },
    {
      "cell_type": "code",
      "execution_count": null,
      "metadata": {
        "colab": {
          "background_save": true
        },
        "id": "xSM2TzETdUKo"
      },
      "outputs": [],
      "source": [
        "score = model.evaluate(X_test, y_test)\n",
        "score=score[1]\n",
        "df_models_score=df_models_score.append({'name_model': 'Neural network Classification', 'score': round(score*100,2),'target': 'score'},ignore_index=True)"
      ]
    },
    {
      "cell_type": "code",
      "execution_count": null,
      "metadata": {
        "colab": {
          "background_save": true
        },
        "id": "lENcLP1SeCG3"
      },
      "outputs": [],
      "source": [
        "df_models_score[\"score\"]=df_models_score[\"score\"].astype(str)+\"%\""
      ]
    },
    {
      "cell_type": "markdown",
      "metadata": {
        "id": "JTCRaQBR6ypQ"
      },
      "source": [
        "### Results"
      ]
    },
    {
      "cell_type": "code",
      "execution_count": null,
      "metadata": {
        "colab": {
          "background_save": true
        },
        "id": "sH17ByDKltcP"
      },
      "outputs": [],
      "source": [
        "df_models_score.to_csv(\"/content/df_score.csv\",index=False)"
      ]
    },
    {
      "cell_type": "code",
      "execution_count": null,
      "metadata": {
        "colab": {
          "background_save": true
        },
        "id": "REDaLey899Ij"
      },
      "outputs": [],
      "source": [
        "df_models_score"
      ]
    },
    {
      "cell_type": "code",
      "execution_count": null,
      "metadata": {
        "colab": {
          "background_save": true
        },
        "id": "PwCv-IGt9-3z"
      },
      "outputs": [],
      "source": [
        ""
      ]
    }
  ],
  "metadata": {
    "accelerator": "GPU",
    "colab": {
      "collapsed_sections": [
        "m-JcIWUDgmfj"
      ],
      "name": "MoviesModel.v1.(Classification_score).ipynb",
      "provenance": []
    },
    "kernelspec": {
      "display_name": "Python 3",
      "name": "python3"
    },
    "language_info": {
      "name": "python"
    }
  },
  "nbformat": 4,
  "nbformat_minor": 0
}