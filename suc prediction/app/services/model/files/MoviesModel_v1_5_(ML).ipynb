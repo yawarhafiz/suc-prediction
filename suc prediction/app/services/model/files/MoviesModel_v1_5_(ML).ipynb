{
  "cells": [
    {
      "cell_type": "code",
      "execution_count": null,
      "metadata": {
        "id": "UeEe2YCRlrQv"
      },
      "outputs": [],
      "source": [
        "import pandas as pd\n",
        "import numpy as np\n",
        "import matplotlib as mpl\n",
        "import matplotlib.pyplot as plt\n",
        "import seaborn as sns\n",
        "import pymongo\n",
        "\n",
        "from sklearn.model_selection import train_test_split\n",
        "from sklearn.preprocessing import MinMaxScaler\n",
        "from sklearn.ensemble import RandomForestClassifier\n",
        "from sklearn.metrics import precision_score\n",
        "from sklearn.metrics import classification_report\n",
        "from sklearn.metrics import recall_score\n",
        "from sklearn.metrics import confusion_matrix\n",
        "from sklearn.metrics import plot_confusion_matrix\n",
        "from sklearn.metrics import r2_score\n",
        "from sklearn import metrics\n",
        "\n"
      ]
    },
    {
      "cell_type": "code",
      "execution_count": null,
      "metadata": {
        "id": "GbouC8ZFoIMa"
      },
      "outputs": [],
      "source": [
        "client = pymongo.MongoClient('mongo', 27017)\n",
        "\n",
        "# Database Name conection\n",
        "db = client[\"movies_database\"]\n",
        "\n",
        "# Collection Name\n",
        "col = db[\"data\"]\n",
        "x = col.find()\n",
        "\n",
        "df =  pd.DataFrame(list(x))"
      ]
    },
    {
      "cell_type": "code",
      "execution_count": null,
      "metadata": {
        "id": "QedfuAY9mC6U"
      },
      "outputs": [],
      "source": [
        "#df = pd.read_csv('movies_list_2012-2020.csv')"
      ]
    },
    {
      "cell_type": "code",
      "execution_count": null,
      "metadata": {
        "id": "nD2lU1HmaZQZ"
      },
      "outputs": [],
      "source": [
        "df_results = pd.DataFrame(columns=['algorithm_name', 'score', 'target'])"
      ]
    },
    {
      "cell_type": "code",
      "execution_count": null,
      "metadata": {
        "colab": {
          "base_uri": "https://localhost:8080/",
          "height": 421
        },
        "id": "VfI-CFe1mTnq",
        "outputId": "9dfc92d1-adda-46af-e229-0c052f40227f"
      },
      "outputs": [
        {
          "data": {
            "text/html": [
              "\n",
              "  <div id=\"df-0b373fbf-206b-4d33-8a7f-debd14b75818\">\n",
              "    <div class=\"colab-df-container\">\n",
              "      <div>\n",
              "<style scoped>\n",
              "    .dataframe tbody tr th:only-of-type {\n",
              "        vertical-align: middle;\n",
              "    }\n",
              "\n",
              "    .dataframe tbody tr th {\n",
              "        vertical-align: top;\n",
              "    }\n",
              "\n",
              "    .dataframe thead th {\n",
              "        text-align: right;\n",
              "    }\n",
              "</style>\n",
              "<table border=\"1\" class=\"dataframe\">\n",
              "  <thead>\n",
              "    <tr style=\"text-align: right;\">\n",
              "      <th></th>\n",
              "      <th>movie_title</th>\n",
              "      <th>gross_total</th>\n",
              "      <th>max_theaters</th>\n",
              "      <th>opening_weekend_gross</th>\n",
              "      <th>release_date</th>\n",
              "      <th>score</th>\n",
              "      <th>running_time_min</th>\n",
              "      <th>production_budget</th>\n",
              "      <th>genre_action</th>\n",
              "      <th>genre_adventure</th>\n",
              "      <th>...</th>\n",
              "      <th>genre_horror</th>\n",
              "      <th>genre_kids</th>\n",
              "      <th>genre_musical</th>\n",
              "      <th>genre_mystery</th>\n",
              "      <th>genre_romance</th>\n",
              "      <th>genre_sci-fi</th>\n",
              "      <th>genre_tv_series</th>\n",
              "      <th>genre_thriller</th>\n",
              "      <th>genre_war</th>\n",
              "      <th>genre_western</th>\n",
              "    </tr>\n",
              "  </thead>\n",
              "  <tbody>\n",
              "    <tr>\n",
              "      <th>0</th>\n",
              "      <td>The Avengers</td>\n",
              "      <td>623357910</td>\n",
              "      <td>4349</td>\n",
              "      <td>207438708</td>\n",
              "      <td>2012/05/4</td>\n",
              "      <td>3.0</td>\n",
              "      <td>89</td>\n",
              "      <td>225000000</td>\n",
              "      <td>1</td>\n",
              "      <td>0</td>\n",
              "      <td>...</td>\n",
              "      <td>0</td>\n",
              "      <td>0</td>\n",
              "      <td>0</td>\n",
              "      <td>0</td>\n",
              "      <td>0</td>\n",
              "      <td>1</td>\n",
              "      <td>0</td>\n",
              "      <td>0</td>\n",
              "      <td>0</td>\n",
              "      <td>0</td>\n",
              "    </tr>\n",
              "    <tr>\n",
              "      <th>1</th>\n",
              "      <td>The Dark Knight Rises</td>\n",
              "      <td>448139099</td>\n",
              "      <td>4404</td>\n",
              "      <td>160887295</td>\n",
              "      <td>2012/07/20</td>\n",
              "      <td>7.5</td>\n",
              "      <td>164</td>\n",
              "      <td>230000000</td>\n",
              "      <td>1</td>\n",
              "      <td>0</td>\n",
              "      <td>...</td>\n",
              "      <td>0</td>\n",
              "      <td>0</td>\n",
              "      <td>0</td>\n",
              "      <td>0</td>\n",
              "      <td>0</td>\n",
              "      <td>0</td>\n",
              "      <td>0</td>\n",
              "      <td>1</td>\n",
              "      <td>0</td>\n",
              "      <td>0</td>\n",
              "    </tr>\n",
              "    <tr>\n",
              "      <th>2</th>\n",
              "      <td>The Hunger Games</td>\n",
              "      <td>408010692</td>\n",
              "      <td>4137</td>\n",
              "      <td>152535747</td>\n",
              "      <td>2012/03/23</td>\n",
              "      <td>6.2</td>\n",
              "      <td>143</td>\n",
              "      <td>80000000</td>\n",
              "      <td>0</td>\n",
              "      <td>1</td>\n",
              "      <td>...</td>\n",
              "      <td>0</td>\n",
              "      <td>0</td>\n",
              "      <td>0</td>\n",
              "      <td>0</td>\n",
              "      <td>0</td>\n",
              "      <td>1</td>\n",
              "      <td>0</td>\n",
              "      <td>1</td>\n",
              "      <td>0</td>\n",
              "      <td>0</td>\n",
              "    </tr>\n",
              "    <tr>\n",
              "      <th>3</th>\n",
              "      <td>Skyfall</td>\n",
              "      <td>304360277</td>\n",
              "      <td>3526</td>\n",
              "      <td>88364714</td>\n",
              "      <td>2012/11/9</td>\n",
              "      <td>6.6</td>\n",
              "      <td>143</td>\n",
              "      <td>200000000</td>\n",
              "      <td>1</td>\n",
              "      <td>0</td>\n",
              "      <td>...</td>\n",
              "      <td>0</td>\n",
              "      <td>0</td>\n",
              "      <td>0</td>\n",
              "      <td>0</td>\n",
              "      <td>0</td>\n",
              "      <td>0</td>\n",
              "      <td>0</td>\n",
              "      <td>1</td>\n",
              "      <td>0</td>\n",
              "      <td>0</td>\n",
              "    </tr>\n",
              "    <tr>\n",
              "      <th>4</th>\n",
              "      <td>The Hobbit: An Unexpected Journey</td>\n",
              "      <td>303003568</td>\n",
              "      <td>4100</td>\n",
              "      <td>84617303</td>\n",
              "      <td>2012/12/14</td>\n",
              "      <td>7.0</td>\n",
              "      <td>170</td>\n",
              "      <td>200000000</td>\n",
              "      <td>1</td>\n",
              "      <td>1</td>\n",
              "      <td>...</td>\n",
              "      <td>0</td>\n",
              "      <td>0</td>\n",
              "      <td>0</td>\n",
              "      <td>0</td>\n",
              "      <td>0</td>\n",
              "      <td>0</td>\n",
              "      <td>0</td>\n",
              "      <td>0</td>\n",
              "      <td>0</td>\n",
              "      <td>0</td>\n",
              "    </tr>\n",
              "  </tbody>\n",
              "</table>\n",
              "<p>5 rows × 26 columns</p>\n",
              "</div>\n",
              "      <button class=\"colab-df-convert\" onclick=\"convertToInteractive('df-0b373fbf-206b-4d33-8a7f-debd14b75818')\"\n",
              "              title=\"Convert this dataframe to an interactive table.\"\n",
              "              style=\"display:none;\">\n",
              "        \n",
              "  <svg xmlns=\"http://www.w3.org/2000/svg\" height=\"24px\"viewBox=\"0 0 24 24\"\n",
              "       width=\"24px\">\n",
              "    <path d=\"M0 0h24v24H0V0z\" fill=\"none\"/>\n",
              "    <path d=\"M18.56 5.44l.94 2.06.94-2.06 2.06-.94-2.06-.94-.94-2.06-.94 2.06-2.06.94zm-11 1L8.5 8.5l.94-2.06 2.06-.94-2.06-.94L8.5 2.5l-.94 2.06-2.06.94zm10 10l.94 2.06.94-2.06 2.06-.94-2.06-.94-.94-2.06-.94 2.06-2.06.94z\"/><path d=\"M17.41 7.96l-1.37-1.37c-.4-.4-.92-.59-1.43-.59-.52 0-1.04.2-1.43.59L10.3 9.45l-7.72 7.72c-.78.78-.78 2.05 0 2.83L4 21.41c.39.39.9.59 1.41.59.51 0 1.02-.2 1.41-.59l7.78-7.78 2.81-2.81c.8-.78.8-2.07 0-2.86zM5.41 20L4 18.59l7.72-7.72 1.47 1.35L5.41 20z\"/>\n",
              "  </svg>\n",
              "      </button>\n",
              "      \n",
              "  <style>\n",
              "    .colab-df-container {\n",
              "      display:flex;\n",
              "      flex-wrap:wrap;\n",
              "      gap: 12px;\n",
              "    }\n",
              "\n",
              "    .colab-df-convert {\n",
              "      background-color: #E8F0FE;\n",
              "      border: none;\n",
              "      border-radius: 50%;\n",
              "      cursor: pointer;\n",
              "      display: none;\n",
              "      fill: #1967D2;\n",
              "      height: 32px;\n",
              "      padding: 0 0 0 0;\n",
              "      width: 32px;\n",
              "    }\n",
              "\n",
              "    .colab-df-convert:hover {\n",
              "      background-color: #E2EBFA;\n",
              "      box-shadow: 0px 1px 2px rgba(60, 64, 67, 0.3), 0px 1px 3px 1px rgba(60, 64, 67, 0.15);\n",
              "      fill: #174EA6;\n",
              "    }\n",
              "\n",
              "    [theme=dark] .colab-df-convert {\n",
              "      background-color: #3B4455;\n",
              "      fill: #D2E3FC;\n",
              "    }\n",
              "\n",
              "    [theme=dark] .colab-df-convert:hover {\n",
              "      background-color: #434B5C;\n",
              "      box-shadow: 0px 1px 3px 1px rgba(0, 0, 0, 0.15);\n",
              "      filter: drop-shadow(0px 1px 2px rgba(0, 0, 0, 0.3));\n",
              "      fill: #FFFFFF;\n",
              "    }\n",
              "  </style>\n",
              "\n",
              "      <script>\n",
              "        const buttonEl =\n",
              "          document.querySelector('#df-0b373fbf-206b-4d33-8a7f-debd14b75818 button.colab-df-convert');\n",
              "        buttonEl.style.display =\n",
              "          google.colab.kernel.accessAllowed ? 'block' : 'none';\n",
              "\n",
              "        async function convertToInteractive(key) {\n",
              "          const element = document.querySelector('#df-0b373fbf-206b-4d33-8a7f-debd14b75818');\n",
              "          const dataTable =\n",
              "            await google.colab.kernel.invokeFunction('convertToInteractive',\n",
              "                                                     [key], {});\n",
              "          if (!dataTable) return;\n",
              "\n",
              "          const docLinkHtml = 'Like what you see? Visit the ' +\n",
              "            '<a target=\"_blank\" href=https://colab.research.google.com/notebooks/data_table.ipynb>data table notebook</a>'\n",
              "            + ' to learn more about interactive tables.';\n",
              "          element.innerHTML = '';\n",
              "          dataTable['output_type'] = 'display_data';\n",
              "          await google.colab.output.renderOutput(dataTable, element);\n",
              "          const docLink = document.createElement('div');\n",
              "          docLink.innerHTML = docLinkHtml;\n",
              "          element.appendChild(docLink);\n",
              "        }\n",
              "      </script>\n",
              "    </div>\n",
              "  </div>\n",
              "  "
            ],
            "text/plain": [
              "                         movie_title  gross_total  max_theaters  \\\n",
              "0                       The Avengers    623357910          4349   \n",
              "1              The Dark Knight Rises    448139099          4404   \n",
              "2                   The Hunger Games    408010692          4137   \n",
              "3                            Skyfall    304360277          3526   \n",
              "4  The Hobbit: An Unexpected Journey    303003568          4100   \n",
              "\n",
              "   opening_weekend_gross release_date  score  running_time_min  \\\n",
              "0              207438708    2012/05/4    3.0                89   \n",
              "1              160887295   2012/07/20    7.5               164   \n",
              "2              152535747   2012/03/23    6.2               143   \n",
              "3               88364714    2012/11/9    6.6               143   \n",
              "4               84617303   2012/12/14    7.0               170   \n",
              "\n",
              "   production_budget  genre_action  genre_adventure  ...  genre_horror  \\\n",
              "0          225000000             1                0  ...             0   \n",
              "1          230000000             1                0  ...             0   \n",
              "2           80000000             0                1  ...             0   \n",
              "3          200000000             1                0  ...             0   \n",
              "4          200000000             1                1  ...             0   \n",
              "\n",
              "   genre_kids  genre_musical  genre_mystery  genre_romance  genre_sci-fi  \\\n",
              "0           0              0              0              0             1   \n",
              "1           0              0              0              0             0   \n",
              "2           0              0              0              0             1   \n",
              "3           0              0              0              0             0   \n",
              "4           0              0              0              0             0   \n",
              "\n",
              "   genre_tv_series  genre_thriller  genre_war  genre_western  \n",
              "0                0               0          0              0  \n",
              "1                0               1          0              0  \n",
              "2                0               1          0              0  \n",
              "3                0               1          0              0  \n",
              "4                0               0          0              0  \n",
              "\n",
              "[5 rows x 26 columns]"
            ]
          },
          "execution_count": 640,
          "metadata": {},
          "output_type": "execute_result"
        }
      ],
      "source": [
        "df.head()"
      ]
    },
    {
      "cell_type": "markdown",
      "metadata": {
        "id": "8UBq__Of1cCk"
      },
      "source": [
        "# Pre-analysis"
      ]
    },
    {
      "cell_type": "code",
      "execution_count": null,
      "metadata": {
        "id": "XIaBiNNBGaRr"
      },
      "outputs": [],
      "source": [
        "original_df = df.drop(columns=['_id'], axis=0)\n",
        "final_df=original_df\n",
        "df = df.drop(columns=['release_date', 'movie_title', '_id'], axis=0)"
      ]
    },
    {
      "cell_type": "markdown",
      "metadata": {
        "id": "Rnu1JgOUqnO1"
      },
      "source": [
        "## Differents values"
      ]
    },
    {
      "cell_type": "code",
      "execution_count": null,
      "metadata": {
        "colab": {
          "base_uri": "https://localhost:8080/"
        },
        "id": "PJ1qzyM_qm4m",
        "outputId": "717ec258-c8d7-460e-f39c-d793dc296251"
      },
      "outputs": [
        {
          "data": {
            "text/plain": [
              "count     947.000000\n",
              "mean     2818.786695\n",
              "std       971.671773\n",
              "min       600.000000\n",
              "25%      2233.000000\n",
              "50%      3003.000000\n",
              "75%      3517.000000\n",
              "max      4802.000000\n",
              "Name: max_theaters, dtype: float64"
            ]
          },
          "execution_count": 642,
          "metadata": {},
          "output_type": "execute_result"
        }
      ],
      "source": [
        "df['max_theaters'].describe()"
      ]
    },
    {
      "cell_type": "code",
      "execution_count": null,
      "metadata": {
        "colab": {
          "base_uri": "https://localhost:8080/"
        },
        "id": "CJlYTwqOnSbZ",
        "outputId": "2c990fc8-fa28-4704-908e-63f9286e2fd8"
      },
      "outputs": [
        {
          "data": {
            "text/plain": [
              "count    947.000000\n",
              "mean       5.605385\n",
              "std        0.981683\n",
              "min        2.500000\n",
              "25%        4.900000\n",
              "50%        5.600000\n",
              "75%        6.300000\n",
              "max        8.500000\n",
              "Name: score, dtype: float64"
            ]
          },
          "execution_count": 643,
          "metadata": {},
          "output_type": "execute_result"
        }
      ],
      "source": [
        "df['score'].describe()"
      ]
    },
    {
      "cell_type": "code",
      "execution_count": null,
      "metadata": {
        "colab": {
          "base_uri": "https://localhost:8080/"
        },
        "id": "9__P4AuJq_7c",
        "outputId": "0dc4083a-13f5-45c2-ef25-21ba602b1802"
      },
      "outputs": [
        {
          "data": {
            "text/plain": [
              "count    947.000000\n",
              "mean     109.280887\n",
              "std       19.235364\n",
              "min        4.000000\n",
              "25%       96.000000\n",
              "50%      107.000000\n",
              "75%      121.000000\n",
              "max      207.000000\n",
              "Name: running_time_min, dtype: float64"
            ]
          },
          "execution_count": 644,
          "metadata": {},
          "output_type": "execute_result"
        }
      ],
      "source": [
        "df['running_time_min'].describe()"
      ]
    },
    {
      "cell_type": "code",
      "execution_count": null,
      "metadata": {
        "colab": {
          "base_uri": "https://localhost:8080/"
        },
        "id": "xkA57mMGwLUp",
        "outputId": "5364c840-98a9-47a0-f08b-0ebe09d2ee0e"
      },
      "outputs": [
        {
          "name": "stdout",
          "output_type": "stream",
          "text": [
            "genre_action: 251/947\n",
            "genre_adventure: 144/947\n",
            "genre_animation: 83/947\n",
            "genre_comedy: 330/947\n",
            "genre_documentary: 6/947\n",
            "genre_drama: 325/947\n",
            "genre_fantasy: 150/947\n",
            "genre_film_noir: 5/947\n",
            "genre_horror: 107/947\n",
            "genre_kids: 28/947\n",
            "genre_musical: 20/947\n",
            "genre_mystery: 46/947\n",
            "genre_romance: 95/947\n",
            "genre_sci-fi: 139/947\n",
            "genre_tv_series: 3/947\n",
            "genre_thriller: 215/947\n",
            "genre_war: 22/947\n",
            "genre_western: 9/947\n"
          ]
        }
      ],
      "source": [
        "for col in df.columns.to_list():\n",
        "  if col.startswith('genre_'):\n",
        "    print(f'{col}: {df[col].value_counts()[1]}/{len(df)}')"
      ]
    },
    {
      "cell_type": "markdown",
      "metadata": {
        "id": "MnXyVlWLz9qZ"
      },
      "source": [
        "## Outliers"
      ]
    },
    {
      "cell_type": "code",
      "execution_count": null,
      "metadata": {
        "colab": {
          "base_uri": "https://localhost:8080/"
        },
        "id": "VbdsoAgN0HDm",
        "outputId": "221a64bf-6101-40d0-e11e-d54f5ce4588a"
      },
      "outputs": [
        {
          "data": {
            "image/png": "[encoded data removed]",
            "text/plain": [
              "<Figure size 1440x720 with 1 Axes>"
            ]
          },
          "metadata": {
            "needs_background": "light"
          },
          "output_type": "display_data"
        }
      ],
      "source": [
        "plt.figure(figsize=(20, 10))\n",
        "ax = sns.boxplot(data=df)\n",
        "_ = ax.set_xticklabels(df.keys(), rotation=90)"
      ]
    },
    {
      "cell_type": "markdown",
      "metadata": {
        "id": "oP9PvXH5_0jj"
      },
      "source": [
        "## Correlation"
      ]
    },
    {
      "cell_type": "code",
      "execution_count": null,
      "metadata": {
        "colab": {
          "base_uri": "https://localhost:8080/",
          "height": 317
        },
        "id": "SWgmMF9s0b3I",
        "outputId": "4cbb174c-f8c3-4657-f86b-3077d66bdc4f"
      },
      "outputs": [
        {
          "data": {
            "text/html": [
              "\n",
              "  <div id=\"df-045d0e42-b816-4726-b927-21e5a3da7c68\">\n",
              "    <div class=\"colab-df-container\">\n",
              "      <div>\n",
              "<style scoped>\n",
              "    .dataframe tbody tr th:only-of-type {\n",
              "        vertical-align: middle;\n",
              "    }\n",
              "\n",
              "    .dataframe tbody tr th {\n",
              "        vertical-align: top;\n",
              "    }\n",
              "\n",
              "    .dataframe thead th {\n",
              "        text-align: right;\n",
              "    }\n",
              "</style>\n",
              "<table border=\"1\" class=\"dataframe\">\n",
              "  <thead>\n",
              "    <tr style=\"text-align: right;\">\n",
              "      <th></th>\n",
              "      <th>gross_total</th>\n",
              "      <th>max_theaters</th>\n",
              "      <th>opening_weekend_gross</th>\n",
              "      <th>score</th>\n",
              "      <th>running_time_min</th>\n",
              "      <th>production_budget</th>\n",
              "      <th>genre_action</th>\n",
              "      <th>genre_adventure</th>\n",
              "      <th>genre_animation</th>\n",
              "      <th>genre_comedy</th>\n",
              "      <th>...</th>\n",
              "      <th>genre_horror</th>\n",
              "      <th>genre_kids</th>\n",
              "      <th>genre_musical</th>\n",
              "      <th>genre_mystery</th>\n",
              "      <th>genre_romance</th>\n",
              "      <th>genre_sci-fi</th>\n",
              "      <th>genre_tv_series</th>\n",
              "      <th>genre_thriller</th>\n",
              "      <th>genre_war</th>\n",
              "      <th>genre_western</th>\n",
              "    </tr>\n",
              "  </thead>\n",
              "  <tbody>\n",
              "    <tr>\n",
              "      <th>0</th>\n",
              "      <td>623357910</td>\n",
              "      <td>4349</td>\n",
              "      <td>207438708</td>\n",
              "      <td>3.0</td>\n",
              "      <td>89</td>\n",
              "      <td>225000000</td>\n",
              "      <td>1</td>\n",
              "      <td>0</td>\n",
              "      <td>0</td>\n",
              "      <td>0</td>\n",
              "      <td>...</td>\n",
              "      <td>0</td>\n",
              "      <td>0</td>\n",
              "      <td>0</td>\n",
              "      <td>0</td>\n",
              "      <td>0</td>\n",
              "      <td>1</td>\n",
              "      <td>0</td>\n",
              "      <td>0</td>\n",
              "      <td>0</td>\n",
              "      <td>0</td>\n",
              "    </tr>\n",
              "    <tr>\n",
              "      <th>1</th>\n",
              "      <td>448139099</td>\n",
              "      <td>4404</td>\n",
              "      <td>160887295</td>\n",
              "      <td>7.5</td>\n",
              "      <td>164</td>\n",
              "      <td>230000000</td>\n",
              "      <td>1</td>\n",
              "      <td>0</td>\n",
              "      <td>0</td>\n",
              "      <td>0</td>\n",
              "      <td>...</td>\n",
              "      <td>0</td>\n",
              "      <td>0</td>\n",
              "      <td>0</td>\n",
              "      <td>0</td>\n",
              "      <td>0</td>\n",
              "      <td>0</td>\n",
              "      <td>0</td>\n",
              "      <td>1</td>\n",
              "      <td>0</td>\n",
              "      <td>0</td>\n",
              "    </tr>\n",
              "    <tr>\n",
              "      <th>2</th>\n",
              "      <td>408010692</td>\n",
              "      <td>4137</td>\n",
              "      <td>152535747</td>\n",
              "      <td>6.2</td>\n",
              "      <td>143</td>\n",
              "      <td>80000000</td>\n",
              "      <td>0</td>\n",
              "      <td>1</td>\n",
              "      <td>0</td>\n",
              "      <td>0</td>\n",
              "      <td>...</td>\n",
              "      <td>0</td>\n",
              "      <td>0</td>\n",
              "      <td>0</td>\n",
              "      <td>0</td>\n",
              "      <td>0</td>\n",
              "      <td>1</td>\n",
              "      <td>0</td>\n",
              "      <td>1</td>\n",
              "      <td>0</td>\n",
              "      <td>0</td>\n",
              "    </tr>\n",
              "    <tr>\n",
              "      <th>3</th>\n",
              "      <td>304360277</td>\n",
              "      <td>3526</td>\n",
              "      <td>88364714</td>\n",
              "      <td>6.6</td>\n",
              "      <td>143</td>\n",
              "      <td>200000000</td>\n",
              "      <td>1</td>\n",
              "      <td>0</td>\n",
              "      <td>0</td>\n",
              "      <td>0</td>\n",
              "      <td>...</td>\n",
              "      <td>0</td>\n",
              "      <td>0</td>\n",
              "      <td>0</td>\n",
              "      <td>0</td>\n",
              "      <td>0</td>\n",
              "      <td>0</td>\n",
              "      <td>0</td>\n",
              "      <td>1</td>\n",
              "      <td>0</td>\n",
              "      <td>0</td>\n",
              "    </tr>\n",
              "    <tr>\n",
              "      <th>4</th>\n",
              "      <td>303003568</td>\n",
              "      <td>4100</td>\n",
              "      <td>84617303</td>\n",
              "      <td>7.0</td>\n",
              "      <td>170</td>\n",
              "      <td>200000000</td>\n",
              "      <td>1</td>\n",
              "      <td>1</td>\n",
              "      <td>0</td>\n",
              "      <td>0</td>\n",
              "      <td>...</td>\n",
              "      <td>0</td>\n",
              "      <td>0</td>\n",
              "      <td>0</td>\n",
              "      <td>0</td>\n",
              "      <td>0</td>\n",
              "      <td>0</td>\n",
              "      <td>0</td>\n",
              "      <td>0</td>\n",
              "      <td>0</td>\n",
              "      <td>0</td>\n",
              "    </tr>\n",
              "  </tbody>\n",
              "</table>\n",
              "<p>5 rows × 24 columns</p>\n",
              "</div>\n",
              "      <button class=\"colab-df-convert\" onclick=\"convertToInteractive('df-045d0e42-b816-4726-b927-21e5a3da7c68')\"\n",
              "              title=\"Convert this dataframe to an interactive table.\"\n",
              "              style=\"display:none;\">\n",
              "        \n",
              "  <svg xmlns=\"http://www.w3.org/2000/svg\" height=\"24px\"viewBox=\"0 0 24 24\"\n",
              "       width=\"24px\">\n",
              "    <path d=\"M0 0h24v24H0V0z\" fill=\"none\"/>\n",
              "    <path d=\"M18.56 5.44l.94 2.06.94-2.06 2.06-.94-2.06-.94-.94-2.06-.94 2.06-2.06.94zm-11 1L8.5 8.5l.94-2.06 2.06-.94-2.06-.94L8.5 2.5l-.94 2.06-2.06.94zm10 10l.94 2.06.94-2.06 2.06-.94-2.06-.94-.94-2.06-.94 2.06-2.06.94z\"/><path d=\"M17.41 7.96l-1.37-1.37c-.4-.4-.92-.59-1.43-.59-.52 0-1.04.2-1.43.59L10.3 9.45l-7.72 7.72c-.78.78-.78 2.05 0 2.83L4 21.41c.39.39.9.59 1.41.59.51 0 1.02-.2 1.41-.59l7.78-7.78 2.81-2.81c.8-.78.8-2.07 0-2.86zM5.41 20L4 18.59l7.72-7.72 1.47 1.35L5.41 20z\"/>\n",
              "  </svg>\n",
              "      </button>\n",
              "      \n",
              "  <style>\n",
              "    .colab-df-container {\n",
              "      display:flex;\n",
              "      flex-wrap:wrap;\n",
              "      gap: 12px;\n",
              "    }\n",
              "\n",
              "    .colab-df-convert {\n",
              "      background-color: #E8F0FE;\n",
              "      border: none;\n",
              "      border-radius: 50%;\n",
              "      cursor: pointer;\n",
              "      display: none;\n",
              "      fill: #1967D2;\n",
              "      height: 32px;\n",
              "      padding: 0 0 0 0;\n",
              "      width: 32px;\n",
              "    }\n",
              "\n",
              "    .colab-df-convert:hover {\n",
              "      background-color: #E2EBFA;\n",
              "      box-shadow: 0px 1px 2px rgba(60, 64, 67, 0.3), 0px 1px 3px 1px rgba(60, 64, 67, 0.15);\n",
              "      fill: #174EA6;\n",
              "    }\n",
              "\n",
              "    [theme=dark] .colab-df-convert {\n",
              "      background-color: #3B4455;\n",
              "      fill: #D2E3FC;\n",
              "    }\n",
              "\n",
              "    [theme=dark] .colab-df-convert:hover {\n",
              "      background-color: #434B5C;\n",
              "      box-shadow: 0px 1px 3px 1px rgba(0, 0, 0, 0.15);\n",
              "      filter: drop-shadow(0px 1px 2px rgba(0, 0, 0, 0.3));\n",
              "      fill: #FFFFFF;\n",
              "    }\n",
              "  </style>\n",
              "\n",
              "      <script>\n",
              "        const buttonEl =\n",
              "          document.querySelector('#df-045d0e42-b816-4726-b927-21e5a3da7c68 button.colab-df-convert');\n",
              "        buttonEl.style.display =\n",
              "          google.colab.kernel.accessAllowed ? 'block' : 'none';\n",
              "\n",
              "        async function convertToInteractive(key) {\n",
              "          const element = document.querySelector('#df-045d0e42-b816-4726-b927-21e5a3da7c68');\n",
              "          const dataTable =\n",
              "            await google.colab.kernel.invokeFunction('convertToInteractive',\n",
              "                                                     [key], {});\n",
              "          if (!dataTable) return;\n",
              "\n",
              "          const docLinkHtml = 'Like what you see? Visit the ' +\n",
              "            '<a target=\"_blank\" href=https://colab.research.google.com/notebooks/data_table.ipynb>data table notebook</a>'\n",
              "            + ' to learn more about interactive tables.';\n",
              "          element.innerHTML = '';\n",
              "          dataTable['output_type'] = 'display_data';\n",
              "          await google.colab.output.renderOutput(dataTable, element);\n",
              "          const docLink = document.createElement('div');\n",
              "          docLink.innerHTML = docLinkHtml;\n",
              "          element.appendChild(docLink);\n",
              "        }\n",
              "      </script>\n",
              "    </div>\n",
              "  </div>\n",
              "  "
            ],
            "text/plain": [
              "   gross_total  max_theaters  opening_weekend_gross  score  running_time_min  \\\n",
              "0    623357910          4349              207438708    3.0                89   \n",
              "1    448139099          4404              160887295    7.5               164   \n",
              "2    408010692          4137              152535747    6.2               143   \n",
              "3    304360277          3526               88364714    6.6               143   \n",
              "4    303003568          4100               84617303    7.0               170   \n",
              "\n",
              "   production_budget  genre_action  genre_adventure  genre_animation  \\\n",
              "0          225000000             1                0                0   \n",
              "1          230000000             1                0                0   \n",
              "2           80000000             0                1                0   \n",
              "3          200000000             1                0                0   \n",
              "4          200000000             1                1                0   \n",
              "\n",
              "   genre_comedy  ...  genre_horror  genre_kids  genre_musical  genre_mystery  \\\n",
              "0             0  ...             0           0              0              0   \n",
              "1             0  ...             0           0              0              0   \n",
              "2             0  ...             0           0              0              0   \n",
              "3             0  ...             0           0              0              0   \n",
              "4             0  ...             0           0              0              0   \n",
              "\n",
              "   genre_romance  genre_sci-fi  genre_tv_series  genre_thriller  genre_war  \\\n",
              "0              0             1                0               0          0   \n",
              "1              0             0                0               1          0   \n",
              "2              0             1                0               1          0   \n",
              "3              0             0                0               1          0   \n",
              "4              0             0                0               0          0   \n",
              "\n",
              "   genre_western  \n",
              "0              0  \n",
              "1              0  \n",
              "2              0  \n",
              "3              0  \n",
              "4              0  \n",
              "\n",
              "[5 rows x 24 columns]"
            ]
          },
          "execution_count": 647,
          "metadata": {},
          "output_type": "execute_result"
        }
      ],
      "source": [
        "df.head()"
      ]
    },
    {
      "cell_type": "code",
      "execution_count": null,
      "metadata": {
        "colab": {
          "base_uri": "https://localhost:8080/",
          "height": 599
        },
        "id": "gjtjBmDG2Tlz",
        "outputId": "d2d2f1f3-0acc-47e9-8843-af68c381e579"
      },
      "outputs": [
        {
          "data": {
            "image/png": "[encoded data removed]",
            "text/plain": [
              "<Figure size 1080x576 with 2 Axes>"
            ]
          },
          "metadata": {
            "needs_background": "light"
          },
          "output_type": "display_data"
        }
      ],
      "source": [
        "plt.figure(figsize=(15, 8))\n",
        "sns.heatmap(round(df.corr(method='spearman'), 2), annot=True, mask=None)\n",
        "plt.show()"
      ]
    },
    {
      "cell_type": "markdown",
      "metadata": {
        "id": "p7CYvqU0-Qc4"
      },
      "source": [
        "# Models"
      ]
    },
    {
      "cell_type": "markdown",
      "metadata": {
        "id": "a5dU0taP-X2A"
      },
      "source": [
        "1. Predict Score (without total gross)\n",
        "2. Total gross (without score)\n",
        "3. Opening weekend gross (without total gross and score)"
      ]
    },
    {
      "cell_type": "code",
      "execution_count": null,
      "metadata": {
        "id": "t0lWnWS0l60l"
      },
      "outputs": [],
      "source": [
        "def prediccion(y_test,y_pred):\n",
        "  validos=0\n",
        "  no_validos=0\n",
        "  for i in range(len(y_pred)):\n",
        "    if y_test.iloc[i]==y_pred[i].astype(int):\n",
        "      validos=validos+1\n",
        "    else:\n",
        "      no_validos=no_validos+1\n",
        "  return(print(\"Validos: \",validos,\" / No validos: \",no_validos))"
      ]
    },
    {
      "cell_type": "markdown",
      "metadata": {
        "id": "btfzAXhTNbfC"
      },
      "source": [
        "## 1. Predict Score"
      ]
    },
    {
      "cell_type": "code",
      "execution_count": null,
      "metadata": {
        "id": "8Xptu3-VR3K8"
      },
      "outputs": [],
      "source": [
        "notas=[\"Bad/<6\",\"Good/6-7\",\"Very Good/7-8\",\"Excelent/+8\"]\n",
        "df_classification = df"
      ]
    },
    {
      "cell_type": "code",
      "execution_count": null,
      "metadata": {
        "id": "WjMgrd4ORpUy"
      },
      "outputs": [],
      "source": [
        "df_classification.loc[df_classification[\"score\"] < 4.8, \"score\"] = 0\n",
        "df_classification.loc[(df_classification[\"score\"] >=4.8) & (df_classification[\"score\"] < 5.5), \"score\"] = 1\n",
        "df_classification.loc[(df_classification[\"score\"] >=5.5) & (df_classification[\"score\"] < 6.3), \"score\"] = 2\n",
        "df_classification.loc[(df_classification[\"score\"] >=6.3), \"score\"] = 3"
      ]
    },
    {
      "cell_type": "code",
      "execution_count": null,
      "metadata": {
        "id": "y881ZujnmsFy"
      },
      "outputs": [],
      "source": [
        "final_df.loc[final_df[\"score\"] < 4.8, \"score\"] = 0\n",
        "final_df.loc[(final_df[\"score\"] >=4.8) & (final_df[\"score\"] < 5.5), \"score\"] = 1\n",
        "final_df.loc[(final_df[\"score\"] >=5.5) & (final_df[\"score\"] < 6.3), \"score\"] = 2\n",
        "final_df.loc[(final_df[\"score\"] >=6.3), \"score\"] = 3"
      ]
    },
    {
      "cell_type": "code",
      "execution_count": null,
      "metadata": {
        "id": "BfQ4Z9bbSCMN"
      },
      "outputs": [],
      "source": [
        "y=df_classification[\"score\"]\n",
        "cols = list(df_classification.columns)\n",
        "scaler = MinMaxScaler()\n",
        "\n",
        "df_classification = scaler.fit_transform(df_classification)\n",
        "df_classification = pd.DataFrame(df_classification, columns=cols)"
      ]
    },
    {
      "cell_type": "code",
      "execution_count": null,
      "metadata": {
        "colab": {
          "base_uri": "https://localhost:8080/"
        },
        "id": "5bSXj5vJS6jS",
        "outputId": "49e50d46-8481-4a1b-f44c-7a31a4f21af6"
      },
      "outputs": [
        {
          "name": "stdout",
          "output_type": "stream",
          "text": [
            "0.46842105263157896\n"
          ]
        }
      ],
      "source": [
        "df_classification = df_classification.drop(columns=['score', 'gross_total'])\n",
        "X = df_classification\n",
        "X_train, X_test, y_train, y_test = train_test_split(X, y, test_size=0.2, random_state=42)\n",
        "\n",
        "rfc = RandomForestClassifier(n_estimators=2000,criterion=\"gini\")\n",
        "rfc.fit(X_train, y_train)\n",
        "y_pred_rfc = rfc.predict(X_test)\n",
        "score = rfc.score(X_test, y_test)\n",
        "print(score)\n",
        "df_results = df_results.append({'algorithm_name':'random_forest_classifier', 'score': score, 'target': 'score'}, ignore_index=True)\n",
        "y_pred_df=rfc.predict(X)\n"
      ]
    },
    {
      "cell_type": "code",
      "execution_count": null,
      "metadata": {
        "id": "0KTnpcKamIWz"
      },
      "outputs": [],
      "source": [
        "final_df.insert(6,'predicted_score', y_pred_df)\n"
      ]
    },
    {
      "cell_type": "code",
      "execution_count": null,
      "metadata": {
        "id": "Oqgwx7RrnLYa"
      },
      "outputs": [],
      "source": [
        "final_df[\"score\"]=final_df[\"score\"].astype(int)\n",
        "final_df[\"predicted_score\"]=final_df[\"predicted_score\"].astype(int)"
      ]
    },
    {
      "cell_type": "code",
      "execution_count": null,
      "metadata": {
        "id": "XkcQpYx-UiYI"
      },
      "outputs": [],
      "source": [
        "def mostrar_resultados(y_test, pred_y):\n",
        "    conf_matrix = confusion_matrix(y_test, pred_y)\n",
        "    plt.figure(figsize=(12, 12))\n",
        "    sns.heatmap(conf_matrix, annot=True, fmt=\"d\");\n",
        "    plt.title(\"Matriz de confusión\")\n",
        "    plt.ylabel('Realidad')\n",
        "    plt.xlabel('Predicción')\n",
        "    plt.show()\n",
        "    print()\n",
        "    print(classification_report(y_test, pred_y))"
      ]
    },
    {
      "cell_type": "code",
      "execution_count": null,
      "metadata": {
        "colab": {
          "base_uri": "https://localhost:8080/",
          "height": 988
        },
        "id": "nlmeX1TbUKjr",
        "outputId": "f009d557-3dc3-44ca-c1c7-16079b8e5862"
      },
      "outputs": [
        {
          "name": "stdout",
          "output_type": "stream",
          "text": [
            "Accuracy: 0.46842105263157896\n",
            "Validos:  89  / No validos:  101\n"
          ]
        },
        {
          "data": {
            "image/png": "[encoded data removed]",
            "text/plain": [
              "<Figure size 864x864 with 2 Axes>"
            ]
          },
          "metadata": {
            "needs_background": "light"
          },
          "output_type": "display_data"
        },
        {
          "name": "stdout",
          "output_type": "stream",
          "text": [
            "\n",
            "              precision    recall  f1-score   support\n",
            "\n",
            "         0.0       0.43      0.54      0.48        37\n",
            "         1.0       0.39      0.29      0.33        52\n",
            "         2.0       0.36      0.45      0.40        47\n",
            "         3.0       0.69      0.61      0.65        54\n",
            "\n",
            "    accuracy                           0.47       190\n",
            "   macro avg       0.47      0.47      0.47       190\n",
            "weighted avg       0.48      0.47      0.47       190\n",
            "\n"
          ]
        }
      ],
      "source": [
        "print(\"Accuracy:\",metrics.accuracy_score(y_test, y_pred_rfc))\n",
        "prediccion(y_test,y_pred_rfc)\n",
        "mostrar_resultados(y_test,y_pred_rfc)"
      ]
    },
    {
      "cell_type": "markdown",
      "metadata": {
        "id": "KQ2Db56ePMqi"
      },
      "source": [
        "## 2. Gross total (Linear Regression)"
      ]
    },
    {
      "cell_type": "code",
      "execution_count": null,
      "metadata": {
        "id": "y6PM3J1WPMqj"
      },
      "outputs": [],
      "source": [
        "cols = list(df.columns)\n",
        "scaler = MinMaxScaler()\n",
        "scaler_y = MinMaxScaler()\n",
        "\n",
        "\n",
        "df = scaler.fit_transform(df)\n",
        "df = pd.DataFrame(df, columns=cols)\n",
        "\n",
        "df_y = scaler_y.fit_transform(pd.DataFrame(original_df[\"gross_total\"].values.tolist(),columns=[\"gross_total\"]))\n",
        "y = pd.DataFrame(df_y, columns=[\"gross_total\"])\n",
        "\n",
        "df_regresion = df.drop(columns=['score', 'gross_total', 'max_theaters'])\n",
        "\n",
        "X = df_regresion\n",
        "\n",
        "X_train, X_test, y_train, y_test = train_test_split(X, y, test_size=0.2, random_state=42)"
      ]
    },
    {
      "cell_type": "code",
      "execution_count": null,
      "metadata": {
        "colab": {
          "base_uri": "https://localhost:8080/"
        },
        "id": "jahJ3Um8PMqj",
        "outputId": "cce4071a-0dce-4b72-ab86-83d5ef9efe8a"
      },
      "outputs": [
        {
          "data": {
            "text/plain": [
              "LinearRegression()"
            ]
          },
          "execution_count": 660,
          "metadata": {},
          "output_type": "execute_result"
        }
      ],
      "source": [
        "from sklearn.linear_model import LinearRegression\n",
        "\n",
        "model = LinearRegression()\n",
        "model.fit(X_train, y_train)"
      ]
    },
    {
      "cell_type": "code",
      "execution_count": null,
      "metadata": {
        "colab": {
          "base_uri": "https://localhost:8080/"
        },
        "id": "ZJb8aPgzPMqj",
        "outputId": "88b4c9ce-d1e1-4def-b50f-86ac9e8cfeac"
      },
      "outputs": [
        {
          "name": "stdout",
          "output_type": "stream",
          "text": [
            "0.8331974436570537\n"
          ]
        }
      ],
      "source": [
        "score = model.score(X_test, y_test)\n",
        "print(score)"
      ]
    },
    {
      "cell_type": "code",
      "execution_count": null,
      "metadata": {
        "colab": {
          "base_uri": "https://localhost:8080/",
          "height": 206
        },
        "id": "ZRMOH8VLPMqj",
        "outputId": "033c19a7-7e9b-4e21-e363-e58b9e381966"
      },
      "outputs": [
        {
          "data": {
            "text/html": [
              "\n",
              "  <div id=\"df-34fd78f5-b273-4e1c-b27a-8a4714b806f6\">\n",
              "    <div class=\"colab-df-container\">\n",
              "      <div>\n",
              "<style scoped>\n",
              "    .dataframe tbody tr th:only-of-type {\n",
              "        vertical-align: middle;\n",
              "    }\n",
              "\n",
              "    .dataframe tbody tr th {\n",
              "        vertical-align: top;\n",
              "    }\n",
              "\n",
              "    .dataframe thead th {\n",
              "        text-align: right;\n",
              "    }\n",
              "</style>\n",
              "<table border=\"1\" class=\"dataframe\">\n",
              "  <thead>\n",
              "    <tr style=\"text-align: right;\">\n",
              "      <th></th>\n",
              "      <th>movie_title</th>\n",
              "      <th>gross_total</th>\n",
              "      <th>predicted_gross_total</th>\n",
              "    </tr>\n",
              "  </thead>\n",
              "  <tbody>\n",
              "    <tr>\n",
              "      <th>0</th>\n",
              "      <td>The Avengers</td>\n",
              "      <td>623357910</td>\n",
              "      <td>0.643410</td>\n",
              "    </tr>\n",
              "    <tr>\n",
              "      <th>1</th>\n",
              "      <td>The Dark Knight Rises</td>\n",
              "      <td>448139099</td>\n",
              "      <td>0.546258</td>\n",
              "    </tr>\n",
              "    <tr>\n",
              "      <th>2</th>\n",
              "      <td>The Hunger Games</td>\n",
              "      <td>408010692</td>\n",
              "      <td>0.481172</td>\n",
              "    </tr>\n",
              "    <tr>\n",
              "      <th>3</th>\n",
              "      <td>Skyfall</td>\n",
              "      <td>304360277</td>\n",
              "      <td>0.300260</td>\n",
              "    </tr>\n",
              "    <tr>\n",
              "      <th>4</th>\n",
              "      <td>The Hobbit: An Unexpected Journey</td>\n",
              "      <td>303003568</td>\n",
              "      <td>0.300415</td>\n",
              "    </tr>\n",
              "  </tbody>\n",
              "</table>\n",
              "</div>\n",
              "      <button class=\"colab-df-convert\" onclick=\"convertToInteractive('df-34fd78f5-b273-4e1c-b27a-8a4714b806f6')\"\n",
              "              title=\"Convert this dataframe to an interactive table.\"\n",
              "              style=\"display:none;\">\n",
              "        \n",
              "  <svg xmlns=\"http://www.w3.org/2000/svg\" height=\"24px\"viewBox=\"0 0 24 24\"\n",
              "       width=\"24px\">\n",
              "    <path d=\"M0 0h24v24H0V0z\" fill=\"none\"/>\n",
              "    <path d=\"M18.56 5.44l.94 2.06.94-2.06 2.06-.94-2.06-.94-.94-2.06-.94 2.06-2.06.94zm-11 1L8.5 8.5l.94-2.06 2.06-.94-2.06-.94L8.5 2.5l-.94 2.06-2.06.94zm10 10l.94 2.06.94-2.06 2.06-.94-2.06-.94-.94-2.06-.94 2.06-2.06.94z\"/><path d=\"M17.41 7.96l-1.37-1.37c-.4-.4-.92-.59-1.43-.59-.52 0-1.04.2-1.43.59L10.3 9.45l-7.72 7.72c-.78.78-.78 2.05 0 2.83L4 21.41c.39.39.9.59 1.41.59.51 0 1.02-.2 1.41-.59l7.78-7.78 2.81-2.81c.8-.78.8-2.07 0-2.86zM5.41 20L4 18.59l7.72-7.72 1.47 1.35L5.41 20z\"/>\n",
              "  </svg>\n",
              "      </button>\n",
              "      \n",
              "  <style>\n",
              "    .colab-df-container {\n",
              "      display:flex;\n",
              "      flex-wrap:wrap;\n",
              "      gap: 12px;\n",
              "    }\n",
              "\n",
              "    .colab-df-convert {\n",
              "      background-color: #E8F0FE;\n",
              "      border: none;\n",
              "      border-radius: 50%;\n",
              "      cursor: pointer;\n",
              "      display: none;\n",
              "      fill: #1967D2;\n",
              "      height: 32px;\n",
              "      padding: 0 0 0 0;\n",
              "      width: 32px;\n",
              "    }\n",
              "\n",
              "    .colab-df-convert:hover {\n",
              "      background-color: #E2EBFA;\n",
              "      box-shadow: 0px 1px 2px rgba(60, 64, 67, 0.3), 0px 1px 3px 1px rgba(60, 64, 67, 0.15);\n",
              "      fill: #174EA6;\n",
              "    }\n",
              "\n",
              "    [theme=dark] .colab-df-convert {\n",
              "      background-color: #3B4455;\n",
              "      fill: #D2E3FC;\n",
              "    }\n",
              "\n",
              "    [theme=dark] .colab-df-convert:hover {\n",
              "      background-color: #434B5C;\n",
              "      box-shadow: 0px 1px 3px 1px rgba(0, 0, 0, 0.15);\n",
              "      filter: drop-shadow(0px 1px 2px rgba(0, 0, 0, 0.3));\n",
              "      fill: #FFFFFF;\n",
              "    }\n",
              "  </style>\n",
              "\n",
              "      <script>\n",
              "        const buttonEl =\n",
              "          document.querySelector('#df-34fd78f5-b273-4e1c-b27a-8a4714b806f6 button.colab-df-convert');\n",
              "        buttonEl.style.display =\n",
              "          google.colab.kernel.accessAllowed ? 'block' : 'none';\n",
              "\n",
              "        async function convertToInteractive(key) {\n",
              "          const element = document.querySelector('#df-34fd78f5-b273-4e1c-b27a-8a4714b806f6');\n",
              "          const dataTable =\n",
              "            await google.colab.kernel.invokeFunction('convertToInteractive',\n",
              "                                                     [key], {});\n",
              "          if (!dataTable) return;\n",
              "\n",
              "          const docLinkHtml = 'Like what you see? Visit the ' +\n",
              "            '<a target=\"_blank\" href=https://colab.research.google.com/notebooks/data_table.ipynb>data table notebook</a>'\n",
              "            + ' to learn more about interactive tables.';\n",
              "          element.innerHTML = '';\n",
              "          dataTable['output_type'] = 'display_data';\n",
              "          await google.colab.output.renderOutput(dataTable, element);\n",
              "          const docLink = document.createElement('div');\n",
              "          docLink.innerHTML = docLinkHtml;\n",
              "          element.appendChild(docLink);\n",
              "        }\n",
              "      </script>\n",
              "    </div>\n",
              "  </div>\n",
              "  "
            ],
            "text/plain": [
              "                         movie_title  gross_total  predicted_gross_total\n",
              "0                       The Avengers    623357910               0.643410\n",
              "1              The Dark Knight Rises    448139099               0.546258\n",
              "2                   The Hunger Games    408010692               0.481172\n",
              "3                            Skyfall    304360277               0.300260\n",
              "4  The Hobbit: An Unexpected Journey    303003568               0.300415"
            ]
          },
          "execution_count": 662,
          "metadata": {},
          "output_type": "execute_result"
        }
      ],
      "source": [
        "y_pred = model.predict(X_test)\n",
        "r2 = r2_score(y_test,y_pred)\n",
        "df_results = df_results.append({'algorithm_name':'linear_regression', 'score': r2, 'target': 'gross_total'}, ignore_index=True)\n",
        "\n",
        "results = pd.DataFrame(columns=['movie_title', 'gross_total', 'predicted_gross_total'])\n",
        "results['movie_title']=original_df['movie_title']\n",
        "results['gross_total']=original_df['gross_total']\n",
        "results['predicted_gross_total']=model.predict(X)\n",
        "\n",
        "results.head()"
      ]
    },
    {
      "cell_type": "code",
      "execution_count": null,
      "metadata": {
        "id": "a7rpHDaMzvTv"
      },
      "outputs": [],
      "source": [
        "y_pred_transformed=model.predict(X)\n",
        "y_pred_reversed=scaler_y.inverse_transform(y_pred_transformed)\n",
        "y_pred_reversed\n",
        "df_scaled=pd.DataFrame(y_pred_reversed,columns=[\"predicted_gross_total\"])\n",
        "\n",
        "final_df.insert(2,'predicted_gross_total', y_pred_reversed)\n",
        "final_df[\"predicted_gross_total\"]=final_df[\"predicted_gross_total\"].astype(int)"
      ]
    },
    {
      "cell_type": "markdown",
      "metadata": {
        "id": "nhLhZxxkYrVY"
      },
      "source": [
        "## 3. Opening weekend gross (Random Forest Regressor)"
      ]
    },
    {
      "cell_type": "code",
      "execution_count": null,
      "metadata": {
        "id": "SebZUh8L5KJB"
      },
      "outputs": [],
      "source": [
        "cols = list(df.columns)\n",
        "del scaler_y\n",
        "del scaler\n",
        "scaler = MinMaxScaler()\n",
        "scaler_y = MinMaxScaler()\n",
        "\n",
        "\n",
        "df = scaler.fit_transform(df)\n",
        "df = pd.DataFrame(df, columns=cols)\n",
        "\n",
        "df_y = scaler_y.fit_transform(pd.DataFrame(original_df[\"opening_weekend_gross\"].values.tolist(),columns=[\"opening_weekend_gross\"]))\n",
        "y = pd.DataFrame(df_y, columns=[\"opening_weekend_gross\"])\n",
        "\n",
        "df_regresion= df.drop(columns=['opening_weekend_gross','score', 'gross_total'])\n",
        "\n",
        "X = df_regresion\n",
        "\n",
        "X_train, X_test, y_train, y_test = train_test_split(X, y, test_size=0.2, random_state=42)"
      ]
    },
    {
      "cell_type": "code",
      "execution_count": null,
      "metadata": {
        "colab": {
          "base_uri": "https://localhost:8080/"
        },
        "id": "gWaujJQ-YrVc",
        "outputId": "6bdc09a0-2c46-465e-a959-b7e62500cf0d"
      },
      "outputs": [
        {
          "name": "stderr",
          "output_type": "stream",
          "text": [
            "/usr/local/lib/python3.7/dist-packages/ipykernel_launcher.py:4: DataConversionWarning: A column-vector y was passed when a 1d array was expected. Please change the shape of y to (n_samples,), for example using ravel().\n",
            "  after removing the cwd from sys.path.\n"
          ]
        }
      ],
      "source": [
        "from sklearn.ensemble import RandomForestRegressor\n",
        "\n",
        "model = RandomForestRegressor(n_estimators=700) \n",
        "model.fit(X_train, y_train)\n",
        "y_pred = model.predict(X_test) \n"
      ]
    },
    {
      "cell_type": "code",
      "execution_count": null,
      "metadata": {
        "colab": {
          "base_uri": "https://localhost:8080/"
        },
        "id": "U9kxmi97YrVc",
        "outputId": "a2990d1f-7011-4392-9422-b3937ca17765"
      },
      "outputs": [
        {
          "name": "stdout",
          "output_type": "stream",
          "text": [
            "0.6896064216463336\n"
          ]
        }
      ],
      "source": [
        "score = model.score(X_test, y_test)\n",
        "print(score)"
      ]
    },
    {
      "cell_type": "code",
      "execution_count": null,
      "metadata": {
        "colab": {
          "base_uri": "https://localhost:8080/",
          "height": 206
        },
        "id": "8D0XQtRSYrVc",
        "outputId": "1a0a674f-d47f-40f9-c9d4-72941f9c86af"
      },
      "outputs": [
        {
          "data": {
            "text/html": [
              "\n",
              "  <div id=\"df-d38f8cc2-2aab-417f-8533-f399e11ba0ff\">\n",
              "    <div class=\"colab-df-container\">\n",
              "      <div>\n",
              "<style scoped>\n",
              "    .dataframe tbody tr th:only-of-type {\n",
              "        vertical-align: middle;\n",
              "    }\n",
              "\n",
              "    .dataframe tbody tr th {\n",
              "        vertical-align: top;\n",
              "    }\n",
              "\n",
              "    .dataframe thead th {\n",
              "        text-align: right;\n",
              "    }\n",
              "</style>\n",
              "<table border=\"1\" class=\"dataframe\">\n",
              "  <thead>\n",
              "    <tr style=\"text-align: right;\">\n",
              "      <th></th>\n",
              "      <th>movie_title</th>\n",
              "      <th>opening_weekend_gross</th>\n",
              "      <th>predicted_opening_weekend_gross</th>\n",
              "    </tr>\n",
              "  </thead>\n",
              "  <tbody>\n",
              "    <tr>\n",
              "      <th>0</th>\n",
              "      <td>The Avengers</td>\n",
              "      <td>207438708</td>\n",
              "      <td>0.496229</td>\n",
              "    </tr>\n",
              "    <tr>\n",
              "      <th>1</th>\n",
              "      <td>The Dark Knight Rises</td>\n",
              "      <td>160887295</td>\n",
              "      <td>0.455770</td>\n",
              "    </tr>\n",
              "    <tr>\n",
              "      <th>2</th>\n",
              "      <td>The Hunger Games</td>\n",
              "      <td>152535747</td>\n",
              "      <td>0.324962</td>\n",
              "    </tr>\n",
              "    <tr>\n",
              "      <th>3</th>\n",
              "      <td>Skyfall</td>\n",
              "      <td>88364714</td>\n",
              "      <td>0.198539</td>\n",
              "    </tr>\n",
              "    <tr>\n",
              "      <th>4</th>\n",
              "      <td>The Hobbit: An Unexpected Journey</td>\n",
              "      <td>84617303</td>\n",
              "      <td>0.268945</td>\n",
              "    </tr>\n",
              "  </tbody>\n",
              "</table>\n",
              "</div>\n",
              "      <button class=\"colab-df-convert\" onclick=\"convertToInteractive('df-d38f8cc2-2aab-417f-8533-f399e11ba0ff')\"\n",
              "              title=\"Convert this dataframe to an interactive table.\"\n",
              "              style=\"display:none;\">\n",
              "        \n",
              "  <svg xmlns=\"http://www.w3.org/2000/svg\" height=\"24px\"viewBox=\"0 0 24 24\"\n",
              "       width=\"24px\">\n",
              "    <path d=\"M0 0h24v24H0V0z\" fill=\"none\"/>\n",
              "    <path d=\"M18.56 5.44l.94 2.06.94-2.06 2.06-.94-2.06-.94-.94-2.06-.94 2.06-2.06.94zm-11 1L8.5 8.5l.94-2.06 2.06-.94-2.06-.94L8.5 2.5l-.94 2.06-2.06.94zm10 10l.94 2.06.94-2.06 2.06-.94-2.06-.94-.94-2.06-.94 2.06-2.06.94z\"/><path d=\"M17.41 7.96l-1.37-1.37c-.4-.4-.92-.59-1.43-.59-.52 0-1.04.2-1.43.59L10.3 9.45l-7.72 7.72c-.78.78-.78 2.05 0 2.83L4 21.41c.39.39.9.59 1.41.59.51 0 1.02-.2 1.41-.59l7.78-7.78 2.81-2.81c.8-.78.8-2.07 0-2.86zM5.41 20L4 18.59l7.72-7.72 1.47 1.35L5.41 20z\"/>\n",
              "  </svg>\n",
              "      </button>\n",
              "      \n",
              "  <style>\n",
              "    .colab-df-container {\n",
              "      display:flex;\n",
              "      flex-wrap:wrap;\n",
              "      gap: 12px;\n",
              "    }\n",
              "\n",
              "    .colab-df-convert {\n",
              "      background-color: #E8F0FE;\n",
              "      border: none;\n",
              "      border-radius: 50%;\n",
              "      cursor: pointer;\n",
              "      display: none;\n",
              "      fill: #1967D2;\n",
              "      height: 32px;\n",
              "      padding: 0 0 0 0;\n",
              "      width: 32px;\n",
              "    }\n",
              "\n",
              "    .colab-df-convert:hover {\n",
              "      background-color: #E2EBFA;\n",
              "      box-shadow: 0px 1px 2px rgba(60, 64, 67, 0.3), 0px 1px 3px 1px rgba(60, 64, 67, 0.15);\n",
              "      fill: #174EA6;\n",
              "    }\n",
              "\n",
              "    [theme=dark] .colab-df-convert {\n",
              "      background-color: #3B4455;\n",
              "      fill: #D2E3FC;\n",
              "    }\n",
              "\n",
              "    [theme=dark] .colab-df-convert:hover {\n",
              "      background-color: #434B5C;\n",
              "      box-shadow: 0px 1px 3px 1px rgba(0, 0, 0, 0.15);\n",
              "      filter: drop-shadow(0px 1px 2px rgba(0, 0, 0, 0.3));\n",
              "      fill: #FFFFFF;\n",
              "    }\n",
              "  </style>\n",
              "\n",
              "      <script>\n",
              "        const buttonEl =\n",
              "          document.querySelector('#df-d38f8cc2-2aab-417f-8533-f399e11ba0ff button.colab-df-convert');\n",
              "        buttonEl.style.display =\n",
              "          google.colab.kernel.accessAllowed ? 'block' : 'none';\n",
              "\n",
              "        async function convertToInteractive(key) {\n",
              "          const element = document.querySelector('#df-d38f8cc2-2aab-417f-8533-f399e11ba0ff');\n",
              "          const dataTable =\n",
              "            await google.colab.kernel.invokeFunction('convertToInteractive',\n",
              "                                                     [key], {});\n",
              "          if (!dataTable) return;\n",
              "\n",
              "          const docLinkHtml = 'Like what you see? Visit the ' +\n",
              "            '<a target=\"_blank\" href=https://colab.research.google.com/notebooks/data_table.ipynb>data table notebook</a>'\n",
              "            + ' to learn more about interactive tables.';\n",
              "          element.innerHTML = '';\n",
              "          dataTable['output_type'] = 'display_data';\n",
              "          await google.colab.output.renderOutput(dataTable, element);\n",
              "          const docLink = document.createElement('div');\n",
              "          docLink.innerHTML = docLinkHtml;\n",
              "          element.appendChild(docLink);\n",
              "        }\n",
              "      </script>\n",
              "    </div>\n",
              "  </div>\n",
              "  "
            ],
            "text/plain": [
              "                         movie_title  opening_weekend_gross  \\\n",
              "0                       The Avengers              207438708   \n",
              "1              The Dark Knight Rises              160887295   \n",
              "2                   The Hunger Games              152535747   \n",
              "3                            Skyfall               88364714   \n",
              "4  The Hobbit: An Unexpected Journey               84617303   \n",
              "\n",
              "   predicted_opening_weekend_gross  \n",
              "0                         0.496229  \n",
              "1                         0.455770  \n",
              "2                         0.324962  \n",
              "3                         0.198539  \n",
              "4                         0.268945  "
            ]
          },
          "execution_count": 667,
          "metadata": {},
          "output_type": "execute_result"
        }
      ],
      "source": [
        "y_pred = model.predict(X_test)\n",
        "r2 = r2_score(y_test,y_pred)\n",
        "df_results = df_results.append({'algorithm_name':'random_forest_regressor', 'score': r2, 'target': 'opening_weekend_gross'}, ignore_index=True)\n",
        "\n",
        "results = pd.DataFrame(columns=['movie_title', 'opening_weekend_gross', 'predicted_opening_weekend_gross'])\n",
        "results['movie_title']=original_df['movie_title']\n",
        "results['opening_weekend_gross']=original_df['opening_weekend_gross']\n",
        "results['predicted_opening_weekend_gross']=model.predict(X)\n",
        "\n",
        "results.head()"
      ]
    },
    {
      "cell_type": "code",
      "execution_count": null,
      "metadata": {
        "id": "TmmmNsRu5xGZ"
      },
      "outputs": [],
      "source": [
        "y_pred_transformed=model.predict(X)\n",
        "y_pred_reversed=scaler_y.inverse_transform(y_pred_transformed.reshape(1,-1))\n",
        "y_pred_reversed=y_pred_reversed.reshape(-1,1)\n",
        "\n",
        "df_scaled=pd.DataFrame(y_pred_reversed,columns=[\"predicted_opening_weekend_gross\"])\n",
        "\n",
        "final_df.insert(5,'predicted_opening_weekend_gross', y_pred_reversed)\n",
        "final_df[\"predicted_opening_weekend_gross\"]=final_df[\"predicted_opening_weekend_gross\"].astype(int)"
      ]
    },
    {
      "cell_type": "markdown",
      "metadata": {
        "id": "aN1GXqcbcO8A"
      },
      "source": [
        "# Results"
      ]
    },
    {
      "cell_type": "code",
      "execution_count": null,
      "metadata": {
        "id": "f1ktlwrUaofr"
      },
      "outputs": [],
      "source": [
        "df_results['score'] = df_results['score']*100\n",
        "df_results = df_results.sort_values(by=['score'], ascending=False)\n",
        "\n",
        "df_score = df_results.loc[df_results['target'] == 'score']\n",
        "df_gross_total = df_results.loc[df_results['target'] == 'gross_total']\n",
        "df_opening_weekend_gross = df_results.loc[df_results['target'] == 'opening_weekend_gross']"
      ]
    },
    {
      "cell_type": "code",
      "execution_count": null,
      "metadata": {
        "id": "HNpJukXzbV4M"
      },
      "outputs": [],
      "source": [
        "df_results = df_results.sort_values(by=['score'])"
      ]
    },
    {
      "cell_type": "code",
      "execution_count": null,
      "metadata": {
        "id": "lrcjzAmzb2yr"
      },
      "outputs": [],
      "source": [
        "df_final_results = df_score.head(1)\n",
        "df_final_results = df_final_results.append(df_gross_total.head(1))\n",
        "df_final_results = df_final_results.append(df_opening_weekend_gross.head(1))"
      ]
    },
    {
      "cell_type": "markdown",
      "metadata": {
        "id": "AXtpOn9IebKj"
      },
      "source": [
        "## Final conclusion"
      ]
    },
    {
      "cell_type": "code",
      "execution_count": null,
      "metadata": {
        "colab": {
          "base_uri": "https://localhost:8080/",
          "height": 143
        },
        "id": "xc1fRd6beHZh",
        "outputId": "fe6b3538-67da-473a-b28e-ff57b8838d88"
      },
      "outputs": [
        {
          "data": {
            "text/html": [
              "\n",
              "  <div id=\"df-53244ac1-b5a9-430e-b52c-04b928567ed4\">\n",
              "    <div class=\"colab-df-container\">\n",
              "      <div>\n",
              "<style scoped>\n",
              "    .dataframe tbody tr th:only-of-type {\n",
              "        vertical-align: middle;\n",
              "    }\n",
              "\n",
              "    .dataframe tbody tr th {\n",
              "        vertical-align: top;\n",
              "    }\n",
              "\n",
              "    .dataframe thead th {\n",
              "        text-align: right;\n",
              "    }\n",
              "</style>\n",
              "<table border=\"1\" class=\"dataframe\">\n",
              "  <thead>\n",
              "    <tr style=\"text-align: right;\">\n",
              "      <th></th>\n",
              "      <th>algorithm_name</th>\n",
              "      <th>score</th>\n",
              "      <th>target</th>\n",
              "    </tr>\n",
              "  </thead>\n",
              "  <tbody>\n",
              "    <tr>\n",
              "      <th>0</th>\n",
              "      <td>random_forest_classifier</td>\n",
              "      <td>46.842105</td>\n",
              "      <td>score</td>\n",
              "    </tr>\n",
              "    <tr>\n",
              "      <th>1</th>\n",
              "      <td>linear_regression</td>\n",
              "      <td>83.319744</td>\n",
              "      <td>gross_total</td>\n",
              "    </tr>\n",
              "    <tr>\n",
              "      <th>2</th>\n",
              "      <td>random_forest_regressor</td>\n",
              "      <td>68.960642</td>\n",
              "      <td>opening_weekend_gross</td>\n",
              "    </tr>\n",
              "  </tbody>\n",
              "</table>\n",
              "</div>\n",
              "      <button class=\"colab-df-convert\" onclick=\"convertToInteractive('df-53244ac1-b5a9-430e-b52c-04b928567ed4')\"\n",
              "              title=\"Convert this dataframe to an interactive table.\"\n",
              "              style=\"display:none;\">\n",
              "        \n",
              "  <svg xmlns=\"http://www.w3.org/2000/svg\" height=\"24px\"viewBox=\"0 0 24 24\"\n",
              "       width=\"24px\">\n",
              "    <path d=\"M0 0h24v24H0V0z\" fill=\"none\"/>\n",
              "    <path d=\"M18.56 5.44l.94 2.06.94-2.06 2.06-.94-2.06-.94-.94-2.06-.94 2.06-2.06.94zm-11 1L8.5 8.5l.94-2.06 2.06-.94-2.06-.94L8.5 2.5l-.94 2.06-2.06.94zm10 10l.94 2.06.94-2.06 2.06-.94-2.06-.94-.94-2.06-.94 2.06-2.06.94z\"/><path d=\"M17.41 7.96l-1.37-1.37c-.4-.4-.92-.59-1.43-.59-.52 0-1.04.2-1.43.59L10.3 9.45l-7.72 7.72c-.78.78-.78 2.05 0 2.83L4 21.41c.39.39.9.59 1.41.59.51 0 1.02-.2 1.41-.59l7.78-7.78 2.81-2.81c.8-.78.8-2.07 0-2.86zM5.41 20L4 18.59l7.72-7.72 1.47 1.35L5.41 20z\"/>\n",
              "  </svg>\n",
              "      </button>\n",
              "      \n",
              "  <style>\n",
              "    .colab-df-container {\n",
              "      display:flex;\n",
              "      flex-wrap:wrap;\n",
              "      gap: 12px;\n",
              "    }\n",
              "\n",
              "    .colab-df-convert {\n",
              "      background-color: #E8F0FE;\n",
              "      border: none;\n",
              "      border-radius: 50%;\n",
              "      cursor: pointer;\n",
              "      display: none;\n",
              "      fill: #1967D2;\n",
              "      height: 32px;\n",
              "      padding: 0 0 0 0;\n",
              "      width: 32px;\n",
              "    }\n",
              "\n",
              "    .colab-df-convert:hover {\n",
              "      background-color: #E2EBFA;\n",
              "      box-shadow: 0px 1px 2px rgba(60, 64, 67, 0.3), 0px 1px 3px 1px rgba(60, 64, 67, 0.15);\n",
              "      fill: #174EA6;\n",
              "    }\n",
              "\n",
              "    [theme=dark] .colab-df-convert {\n",
              "      background-color: #3B4455;\n",
              "      fill: #D2E3FC;\n",
              "    }\n",
              "\n",
              "    [theme=dark] .colab-df-convert:hover {\n",
              "      background-color: #434B5C;\n",
              "      box-shadow: 0px 1px 3px 1px rgba(0, 0, 0, 0.15);\n",
              "      filter: drop-shadow(0px 1px 2px rgba(0, 0, 0, 0.3));\n",
              "      fill: #FFFFFF;\n",
              "    }\n",
              "  </style>\n",
              "\n",
              "      <script>\n",
              "        const buttonEl =\n",
              "          document.querySelector('#df-53244ac1-b5a9-430e-b52c-04b928567ed4 button.colab-df-convert');\n",
              "        buttonEl.style.display =\n",
              "          google.colab.kernel.accessAllowed ? 'block' : 'none';\n",
              "\n",
              "        async function convertToInteractive(key) {\n",
              "          const element = document.querySelector('#df-53244ac1-b5a9-430e-b52c-04b928567ed4');\n",
              "          const dataTable =\n",
              "            await google.colab.kernel.invokeFunction('convertToInteractive',\n",
              "                                                     [key], {});\n",
              "          if (!dataTable) return;\n",
              "\n",
              "          const docLinkHtml = 'Like what you see? Visit the ' +\n",
              "            '<a target=\"_blank\" href=https://colab.research.google.com/notebooks/data_table.ipynb>data table notebook</a>'\n",
              "            + ' to learn more about interactive tables.';\n",
              "          element.innerHTML = '';\n",
              "          dataTable['output_type'] = 'display_data';\n",
              "          await google.colab.output.renderOutput(dataTable, element);\n",
              "          const docLink = document.createElement('div');\n",
              "          docLink.innerHTML = docLinkHtml;\n",
              "          element.appendChild(docLink);\n",
              "        }\n",
              "      </script>\n",
              "    </div>\n",
              "  </div>\n",
              "  "
            ],
            "text/plain": [
              "             algorithm_name      score                 target\n",
              "0  random_forest_classifier  46.842105                  score\n",
              "1         linear_regression  83.319744            gross_total\n",
              "2   random_forest_regressor  68.960642  opening_weekend_gross"
            ]
          },
          "execution_count": 685,
          "metadata": {},
          "output_type": "execute_result"
        }
      ],
      "source": [
        "df_final_results"
      ]
    },
    {
      "cell_type": "code",
      "execution_count": null,
      "metadata": {},
      "outputs": [],
      "source": [
        "df_final_results.to_csv(\"accuracy_predictions_ML.csv\",index=0,columns=df_final_results.columns.values.tolist())"
      ]
    },
    {
      "cell_type": "code",
      "execution_count": null,
      "metadata": {
        "id": "XwljR3r4nTcp"
      },
      "outputs": [],
      "source": [
        "final_df.to_csv(\"movies_list_2012-2020_predictions.csv\",index=0,columns=final_df.columns.values.tolist())"
      ]
    },
    {
      "cell_type": "code",
      "execution_count": null,
      "metadata": {
        "id": "PkB09j6P66oQ"
      },
      "outputs": [],
      "source": []
    }
  ],
  "metadata": {
    "colab": {
      "collapsed_sections": [
        "MnXyVlWLz9qZ"
      ],
      "name": "MoviesModel.v2.(ML).ipynb",
      "provenance": []
    },
    "kernelspec": {
      "display_name": "Python 3",
      "name": "python3"
    },
    "language_info": {
      "name": "python"
    }
  },
  "nbformat": 4,
  "nbformat_minor": 0
}
